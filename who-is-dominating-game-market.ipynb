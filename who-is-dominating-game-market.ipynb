{
 "cells": [
  {
   "cell_type": "code",
   "execution_count": 1,
   "metadata": {
    "_cell_guid": "b1076dfc-b9ad-4769-8c92-a6c4dae69d19",
    "_uuid": "8f2839f25d086af736a60e9eeb907d3b93b6e0e5"
   },
   "outputs": [
    {
     "name": "stdout",
     "output_type": "stream",
     "text": [
      "/kaggle/input/videogamesales/vgsales.csv\n"
     ]
    }
   ],
   "source": [
    "# This Python 3 environment comes with many helpful analytics libraries installed\n",
    "# It is defined by the kaggle/python docker image: https://github.com/kaggle/docker-python\n",
    "# For example, here's several helpful packages to load in \n",
    "\n",
    "import numpy as np # linear algebra\n",
    "import pandas as pd # data processing, CSV file I/O (e.g. pd.read_csv)\n",
    "import matplotlib.pyplot as plt # for ploting\n",
    "import seaborn as sns # for heat map\n",
    "\n",
    "# Input data files are available in the \"../input/\" directory.\n",
    "# For example, running this (by clicking run or pressing Shift+Enter) will list all files under the input directory\n",
    "\n",
    "import os\n",
    "for dirname, _, filenames in os.walk('/kaggle/input'):\n",
    "    for filename in filenames:\n",
    "        print(os.path.join(dirname, filename))\n",
    "\n",
    "# Any results you write to the current directory are saved as output."
   ]
  },
  {
   "cell_type": "code",
   "execution_count": 2,
   "metadata": {
    "_cell_guid": "79c7e3d0-c299-4dcb-8224-4455121ee9b0",
    "_uuid": "d629ff2d2480ee46fbb7e2d37f6b5fab8052498a"
   },
   "outputs": [
    {
     "data": {
      "text/html": [
       "<div>\n",
       "<style scoped>\n",
       "    .dataframe tbody tr th:only-of-type {\n",
       "        vertical-align: middle;\n",
       "    }\n",
       "\n",
       "    .dataframe tbody tr th {\n",
       "        vertical-align: top;\n",
       "    }\n",
       "\n",
       "    .dataframe thead th {\n",
       "        text-align: right;\n",
       "    }\n",
       "</style>\n",
       "<table border=\"1\" class=\"dataframe\">\n",
       "  <thead>\n",
       "    <tr style=\"text-align: right;\">\n",
       "      <th></th>\n",
       "      <th>Rank</th>\n",
       "      <th>Name</th>\n",
       "      <th>Platform</th>\n",
       "      <th>Year</th>\n",
       "      <th>Genre</th>\n",
       "      <th>Publisher</th>\n",
       "      <th>NA_Sales</th>\n",
       "      <th>EU_Sales</th>\n",
       "      <th>JP_Sales</th>\n",
       "      <th>Other_Sales</th>\n",
       "      <th>Global_Sales</th>\n",
       "    </tr>\n",
       "  </thead>\n",
       "  <tbody>\n",
       "    <tr>\n",
       "      <th>0</th>\n",
       "      <td>1</td>\n",
       "      <td>Wii Sports</td>\n",
       "      <td>Wii</td>\n",
       "      <td>2006.0</td>\n",
       "      <td>Sports</td>\n",
       "      <td>Nintendo</td>\n",
       "      <td>41.49</td>\n",
       "      <td>29.02</td>\n",
       "      <td>3.77</td>\n",
       "      <td>8.46</td>\n",
       "      <td>82.74</td>\n",
       "    </tr>\n",
       "    <tr>\n",
       "      <th>1</th>\n",
       "      <td>2</td>\n",
       "      <td>Super Mario Bros.</td>\n",
       "      <td>NES</td>\n",
       "      <td>1985.0</td>\n",
       "      <td>Platform</td>\n",
       "      <td>Nintendo</td>\n",
       "      <td>29.08</td>\n",
       "      <td>3.58</td>\n",
       "      <td>6.81</td>\n",
       "      <td>0.77</td>\n",
       "      <td>40.24</td>\n",
       "    </tr>\n",
       "    <tr>\n",
       "      <th>2</th>\n",
       "      <td>3</td>\n",
       "      <td>Mario Kart Wii</td>\n",
       "      <td>Wii</td>\n",
       "      <td>2008.0</td>\n",
       "      <td>Racing</td>\n",
       "      <td>Nintendo</td>\n",
       "      <td>15.85</td>\n",
       "      <td>12.88</td>\n",
       "      <td>3.79</td>\n",
       "      <td>3.31</td>\n",
       "      <td>35.82</td>\n",
       "    </tr>\n",
       "    <tr>\n",
       "      <th>3</th>\n",
       "      <td>4</td>\n",
       "      <td>Wii Sports Resort</td>\n",
       "      <td>Wii</td>\n",
       "      <td>2009.0</td>\n",
       "      <td>Sports</td>\n",
       "      <td>Nintendo</td>\n",
       "      <td>15.75</td>\n",
       "      <td>11.01</td>\n",
       "      <td>3.28</td>\n",
       "      <td>2.96</td>\n",
       "      <td>33.00</td>\n",
       "    </tr>\n",
       "    <tr>\n",
       "      <th>4</th>\n",
       "      <td>5</td>\n",
       "      <td>Pokemon Red/Pokemon Blue</td>\n",
       "      <td>GB</td>\n",
       "      <td>1996.0</td>\n",
       "      <td>Role-Playing</td>\n",
       "      <td>Nintendo</td>\n",
       "      <td>11.27</td>\n",
       "      <td>8.89</td>\n",
       "      <td>10.22</td>\n",
       "      <td>1.00</td>\n",
       "      <td>31.37</td>\n",
       "    </tr>\n",
       "  </tbody>\n",
       "</table>\n",
       "</div>"
      ],
      "text/plain": [
       "   Rank                      Name Platform    Year         Genre Publisher  \\\n",
       "0     1                Wii Sports      Wii  2006.0        Sports  Nintendo   \n",
       "1     2         Super Mario Bros.      NES  1985.0      Platform  Nintendo   \n",
       "2     3            Mario Kart Wii      Wii  2008.0        Racing  Nintendo   \n",
       "3     4         Wii Sports Resort      Wii  2009.0        Sports  Nintendo   \n",
       "4     5  Pokemon Red/Pokemon Blue       GB  1996.0  Role-Playing  Nintendo   \n",
       "\n",
       "   NA_Sales  EU_Sales  JP_Sales  Other_Sales  Global_Sales  \n",
       "0     41.49     29.02      3.77         8.46         82.74  \n",
       "1     29.08      3.58      6.81         0.77         40.24  \n",
       "2     15.85     12.88      3.79         3.31         35.82  \n",
       "3     15.75     11.01      3.28         2.96         33.00  \n",
       "4     11.27      8.89     10.22         1.00         31.37  "
      ]
     },
     "execution_count": 2,
     "metadata": {},
     "output_type": "execute_result"
    }
   ],
   "source": [
    "data=pd.read_csv(\"/kaggle/input/videogamesales/vgsales.csv\")\n",
    "data.head()"
   ]
  },
  {
   "cell_type": "code",
   "execution_count": 3,
   "metadata": {},
   "outputs": [
    {
     "name": "stdout",
     "output_type": "stream",
     "text": [
      "<class 'pandas.core.frame.DataFrame'>\n",
      "RangeIndex: 16598 entries, 0 to 16597\n",
      "Data columns (total 11 columns):\n",
      "Rank            16598 non-null int64\n",
      "Name            16598 non-null object\n",
      "Platform        16598 non-null object\n",
      "Year            16327 non-null float64\n",
      "Genre           16598 non-null object\n",
      "Publisher       16540 non-null object\n",
      "NA_Sales        16598 non-null float64\n",
      "EU_Sales        16598 non-null float64\n",
      "JP_Sales        16598 non-null float64\n",
      "Other_Sales     16598 non-null float64\n",
      "Global_Sales    16598 non-null float64\n",
      "dtypes: float64(6), int64(1), object(4)\n",
      "memory usage: 1.4+ MB\n"
     ]
    }
   ],
   "source": [
    "data.info()"
   ]
  },
  {
   "cell_type": "markdown",
   "metadata": {},
   "source": [
    "In this part we can say that we ahve 16598 games and we are going to consider them in 11 parts."
   ]
  },
  {
   "cell_type": "code",
   "execution_count": 4,
   "metadata": {},
   "outputs": [
    {
     "data": {
      "text/plain": [
       "<matplotlib.axes._subplots.AxesSubplot at 0x7ff5ed30fe80>"
      ]
     },
     "execution_count": 4,
     "metadata": {},
     "output_type": "execute_result"
    },
    {
     "data": {
      "image/png": "[encoded data removed]",
      "text/plain": [
       "<Figure size 576x576 with 2 Axes>"
      ]
     },
     "metadata": {
      "needs_background": "light"
     },
     "output_type": "display_data"
    }
   ],
   "source": [
    "f,ax=plt.subplots(figsize=(8,8))\n",
    "sns.heatmap(data.corr(),annot=True,linewidths=.5,fmt=\".1f\",ax=ax)"
   ]
  },
  {
   "cell_type": "markdown",
   "metadata": {},
   "source": [
    "From this heat map we can say that EU sales and NA sales have right proportion with global sales."
   ]
  },
  {
   "cell_type": "code",
   "execution_count": 5,
   "metadata": {},
   "outputs": [
    {
     "data": {
      "text/plain": [
       "Text(0.5, 1.0, 'Ranl Golabal Sales Plot')"
      ]
     },
     "execution_count": 5,
     "metadata": {},
     "output_type": "execute_result"
    },
    {
     "data": {
      "image/png": "[encoded data removed]",
      "text/plain": [
       "<Figure size 432x288 with 1 Axes>"
      ]
     },
     "metadata": {
      "needs_background": "light"
     },
     "output_type": "display_data"
    }
   ],
   "source": [
    "data.plot(kind=\"line\",x=\"Rank\",y=\"Global_Sales\",alpha=1,color=\"b\",lw=4)\n",
    "plt.xlabel(\"Rank\")\n",
    "plt.ylabel(\"Global_Sales\")\n",
    "plt.title(\"Ranl Golabal Sales Plot\")\n"
   ]
  },
  {
   "cell_type": "markdown",
   "metadata": {},
   "source": [
    "Firstly I made linewidth to 4 to observe the graph easily. Then from this chart we can say that most of the games don't have great numbers at global sales. We can say that from this knowledge there are some games are damonating.\n"
   ]
  },
  {
   "cell_type": "code",
   "execution_count": 6,
   "metadata": {},
   "outputs": [
    {
     "name": "stdout",
     "output_type": "stream",
     "text": [
      "    Rank                                          Name Platform    Year  \\\n",
      "0      1                                    Wii Sports      Wii  2006.0   \n",
      "1      2                             Super Mario Bros.      NES  1985.0   \n",
      "2      3                                Mario Kart Wii      Wii  2008.0   \n",
      "3      4                             Wii Sports Resort      Wii  2009.0   \n",
      "4      5                      Pokemon Red/Pokemon Blue       GB  1996.0   \n",
      "5      6                                        Tetris       GB  1989.0   \n",
      "6      7                         New Super Mario Bros.       DS  2006.0   \n",
      "7      8                                      Wii Play      Wii  2006.0   \n",
      "8      9                     New Super Mario Bros. Wii      Wii  2009.0   \n",
      "9     10                                     Duck Hunt      NES  1984.0   \n",
      "10    11                                    Nintendogs       DS  2005.0   \n",
      "11    12                                 Mario Kart DS       DS  2005.0   \n",
      "12    13                   Pokemon Gold/Pokemon Silver       GB  1999.0   \n",
      "13    14                                       Wii Fit      Wii  2007.0   \n",
      "14    15                                  Wii Fit Plus      Wii  2009.0   \n",
      "15    16                            Kinect Adventures!     X360  2010.0   \n",
      "16    17                            Grand Theft Auto V      PS3  2013.0   \n",
      "17    18                 Grand Theft Auto: San Andreas      PS2  2004.0   \n",
      "18    19                             Super Mario World     SNES  1990.0   \n",
      "19    20  Brain Age: Train Your Brain in Minutes a Day       DS  2005.0   \n",
      "\n",
      "           Genre               Publisher  NA_Sales  EU_Sales  JP_Sales  \\\n",
      "0         Sports                Nintendo     41.49     29.02      3.77   \n",
      "1       Platform                Nintendo     29.08      3.58      6.81   \n",
      "2         Racing                Nintendo     15.85     12.88      3.79   \n",
      "3         Sports                Nintendo     15.75     11.01      3.28   \n",
      "4   Role-Playing                Nintendo     11.27      8.89     10.22   \n",
      "5         Puzzle                Nintendo     23.20      2.26      4.22   \n",
      "6       Platform                Nintendo     11.38      9.23      6.50   \n",
      "7           Misc                Nintendo     14.03      9.20      2.93   \n",
      "8       Platform                Nintendo     14.59      7.06      4.70   \n",
      "9        Shooter                Nintendo     26.93      0.63      0.28   \n",
      "10    Simulation                Nintendo      9.07     11.00      1.93   \n",
      "11        Racing                Nintendo      9.81      7.57      4.13   \n",
      "12  Role-Playing                Nintendo      9.00      6.18      7.20   \n",
      "13        Sports                Nintendo      8.94      8.03      3.60   \n",
      "14        Sports                Nintendo      9.09      8.59      2.53   \n",
      "15          Misc  Microsoft Game Studios     14.97      4.94      0.24   \n",
      "16        Action    Take-Two Interactive      7.01      9.27      0.97   \n",
      "17        Action    Take-Two Interactive      9.43      0.40      0.41   \n",
      "18      Platform                Nintendo     12.78      3.75      3.54   \n",
      "19          Misc                Nintendo      4.75      9.26      4.16   \n",
      "\n",
      "    Other_Sales  Global_Sales  \n",
      "0          8.46         82.74  \n",
      "1          0.77         40.24  \n",
      "2          3.31         35.82  \n",
      "3          2.96         33.00  \n",
      "4          1.00         31.37  \n",
      "5          0.58         30.26  \n",
      "6          2.90         30.01  \n",
      "7          2.85         29.02  \n",
      "8          2.26         28.62  \n",
      "9          0.47         28.31  \n",
      "10         2.75         24.76  \n",
      "11         1.92         23.42  \n",
      "12         0.71         23.10  \n",
      "13         2.15         22.72  \n",
      "14         1.79         22.00  \n",
      "15         1.67         21.82  \n",
      "16         4.14         21.40  \n",
      "17        10.57         20.81  \n",
      "18         0.55         20.61  \n",
      "19         2.05         20.22  \n"
     ]
    }
   ],
   "source": [
    "\n",
    "print(data[data[\"Global_Sales\"]>20])"
   ]
  },
  {
   "cell_type": "markdown",
   "metadata": {},
   "source": [
    "After all we can say that in the game market from the beginning to now Nintendo has really big part and big effect on the game market. Nintendo has 16 games in global sales are greater than 20."
   ]
  }
 ],
 "metadata": {
  "kernelspec": {
   "display_name": "Python 3",
   "language": "python",
   "name": "python3"
  },
  "language_info": {
   "codemirror_mode": {
    "name": "ipython",
    "version": 3
   },
   "file_extension": ".py",
   "mimetype": "text/x-python",
   "name": "python",
   "nbconvert_exporter": "python",
   "pygments_lexer": "ipython3",
   "version": "3.6.6"
  }
 },
 "nbformat": 4,
 "nbformat_minor": 1
}

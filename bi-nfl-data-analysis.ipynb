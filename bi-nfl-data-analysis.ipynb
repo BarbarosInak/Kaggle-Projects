{
 "cells": [
  {
   "cell_type": "markdown",
   "metadata": {
    "papermill": {
     "duration": 0.02254,
     "end_time": "2021-02-26T13:27:04.872669",
     "exception": false,
     "start_time": "2021-02-26T13:27:04.850129",
     "status": "completed"
    },
    "tags": []
   },
   "source": [
    " <a id=\"7\"></a>\n",
    "# Introduction\n",
    "\n",
    "   Before starting talking about the analysis, I wanted to say that I am not an American football guy but I tried to do some analysis about the super bowls. For guys that are in the same position as me, the super bowl is the final game of the whole season of the NFL. This analysis includes 54 super bowls (2021 is not included). Before starting thanks for checking out my notebook.\n",
    "    \n",
    "   1. [Implementing and Adjusting Data](#1)\n",
    "   1. [Sorter and Swap Functions](#2)\n",
    "   1. [Determining and Sorting Teams Win and Lose Counts](#3)\n",
    "   1. [MVPs](#4)\n",
    "   1. [Superbowl Locations](#5)\n",
    "   1. [Conclusion](#6)\n",
    "  "
   ]
  },
  {
   "cell_type": "code",
   "execution_count": 1,
   "metadata": {
    "_cell_guid": "b1076dfc-b9ad-4769-8c92-a6c4dae69d19",
    "_uuid": "8f2839f25d086af736a60e9eeb907d3b93b6e0e5",
    "execution": {
     "iopub.execute_input": "2021-02-26T13:27:04.925979Z",
     "iopub.status.busy": "2021-02-26T13:27:04.925040Z",
     "iopub.status.idle": "2021-02-26T13:27:05.866226Z",
     "shell.execute_reply": "2021-02-26T13:27:05.866752Z"
    },
    "papermill": {
     "duration": 0.971596,
     "end_time": "2021-02-26T13:27:05.867142",
     "exception": false,
     "start_time": "2021-02-26T13:27:04.895546",
     "status": "completed"
    },
    "tags": []
   },
   "outputs": [
    {
     "name": "stdout",
     "output_type": "stream",
     "text": [
      "/kaggle/input/superbowl-history-1967-2020/superbowl.csv\n"
     ]
    }
   ],
   "source": [
    "# This Python 3 environment comes with many helpful analytics libraries installed\n",
    "# It is defined by the kaggle/python Docker image: https://github.com/kaggle/docker-python\n",
    "# For example, here's several helpful packages to load\n",
    "\n",
    "import numpy as np # linear algebra\n",
    "import pandas as pd # data processing, CSV file I/O (e.g. pd.read_csv\n",
    "import matplotlib.pyplot as plt\n",
    "import seaborn as sns\n",
    "\n",
    "# Input data files are available in the read-only \"../input/\" directory\n",
    "# For example, running this (by clicking run or pressing Shift+Enter) will list all files under the input directory\n",
    "\n",
    "import os\n",
    "for dirname, _, filenames in os.walk('/kaggle/input'):\n",
    "    for filename in filenames:\n",
    "        print(os.path.join(dirname, filename))\n",
    "\n",
    "# You can write up to 20GB to the current directory (/kaggle/working/) that gets preserved as output when you create a version using \"Save & Run All\" \n",
    "# You can also write temporary files to /kaggle/temp/, but they won't be saved outside of the current session"
   ]
  },
  {
   "cell_type": "markdown",
   "metadata": {
    "papermill": {
     "duration": 0.022023,
     "end_time": "2021-02-26T13:27:05.911391",
     "exception": false,
     "start_time": "2021-02-26T13:27:05.889368",
     "status": "completed"
    },
    "tags": []
   },
   "source": [
    "<a id=\"1\"><a/><br>\n",
    "## Implementing and Adjusting Data"
   ]
  },
  {
   "cell_type": "code",
   "execution_count": 2,
   "metadata": {
    "execution": {
     "iopub.execute_input": "2021-02-26T13:27:05.967293Z",
     "iopub.status.busy": "2021-02-26T13:27:05.966521Z",
     "iopub.status.idle": "2021-02-26T13:27:06.018358Z",
     "shell.execute_reply": "2021-02-26T13:27:06.018817Z"
    },
    "papermill": {
     "duration": 0.084147,
     "end_time": "2021-02-26T13:27:06.019043",
     "exception": false,
     "start_time": "2021-02-26T13:27:05.934896",
     "status": "completed"
    },
    "tags": []
   },
   "outputs": [
    {
     "data": {
      "text/html": [
       "<div>\n",
       "<style scoped>\n",
       "    .dataframe tbody tr th:only-of-type {\n",
       "        vertical-align: middle;\n",
       "    }\n",
       "\n",
       "    .dataframe tbody tr th {\n",
       "        vertical-align: top;\n",
       "    }\n",
       "\n",
       "    .dataframe thead th {\n",
       "        text-align: right;\n",
       "    }\n",
       "</style>\n",
       "<table border=\"1\" class=\"dataframe\">\n",
       "  <thead>\n",
       "    <tr style=\"text-align: right;\">\n",
       "      <th></th>\n",
       "      <th>Date</th>\n",
       "      <th>SB</th>\n",
       "      <th>Winner</th>\n",
       "      <th>Winner Pts</th>\n",
       "      <th>Loser</th>\n",
       "      <th>Loser Pts</th>\n",
       "      <th>MVP</th>\n",
       "      <th>Stadium</th>\n",
       "      <th>City</th>\n",
       "      <th>State</th>\n",
       "    </tr>\n",
       "  </thead>\n",
       "  <tbody>\n",
       "    <tr>\n",
       "      <th>0</th>\n",
       "      <td>Feb 2 2020</td>\n",
       "      <td>LIV (54)</td>\n",
       "      <td>Kansas City Chiefs</td>\n",
       "      <td>31</td>\n",
       "      <td>San Francisco 49ers</td>\n",
       "      <td>20</td>\n",
       "      <td>Patrick Mahomes</td>\n",
       "      <td>Hard Rock Stadium</td>\n",
       "      <td>Miami Gardens</td>\n",
       "      <td>Florida</td>\n",
       "    </tr>\n",
       "    <tr>\n",
       "      <th>1</th>\n",
       "      <td>Feb 3 2019</td>\n",
       "      <td>LIII (53)</td>\n",
       "      <td>New England Patriots</td>\n",
       "      <td>13</td>\n",
       "      <td>Los Angeles Rams</td>\n",
       "      <td>3</td>\n",
       "      <td>Julian Edelman</td>\n",
       "      <td>Mercedes-Benz Stadium</td>\n",
       "      <td>Atlanta</td>\n",
       "      <td>Georgia</td>\n",
       "    </tr>\n",
       "    <tr>\n",
       "      <th>2</th>\n",
       "      <td>Feb 4 2018</td>\n",
       "      <td>LII (52)</td>\n",
       "      <td>Philadelphia Eagles</td>\n",
       "      <td>41</td>\n",
       "      <td>New England Patriots</td>\n",
       "      <td>33</td>\n",
       "      <td>Nick Foles</td>\n",
       "      <td>U.S. Bank Stadium</td>\n",
       "      <td>Minneapolis</td>\n",
       "      <td>Minnesota</td>\n",
       "    </tr>\n",
       "    <tr>\n",
       "      <th>3</th>\n",
       "      <td>Feb 5 2017</td>\n",
       "      <td>LI (51)</td>\n",
       "      <td>New England Patriots</td>\n",
       "      <td>34</td>\n",
       "      <td>Atlanta Falcons</td>\n",
       "      <td>28</td>\n",
       "      <td>Tom Brady</td>\n",
       "      <td>NRG Stadium</td>\n",
       "      <td>Houston</td>\n",
       "      <td>Texas</td>\n",
       "    </tr>\n",
       "    <tr>\n",
       "      <th>4</th>\n",
       "      <td>Feb 7 2016</td>\n",
       "      <td>50</td>\n",
       "      <td>Denver Broncos</td>\n",
       "      <td>24</td>\n",
       "      <td>Carolina Panthers</td>\n",
       "      <td>10</td>\n",
       "      <td>Von Miller</td>\n",
       "      <td>Levi's Stadium</td>\n",
       "      <td>Santa Clara</td>\n",
       "      <td>California</td>\n",
       "    </tr>\n",
       "  </tbody>\n",
       "</table>\n",
       "</div>"
      ],
      "text/plain": [
       "         Date         SB                Winner  Winner Pts  \\\n",
       "0  Feb 2 2020   LIV (54)    Kansas City Chiefs          31   \n",
       "1  Feb 3 2019  LIII (53)  New England Patriots          13   \n",
       "2  Feb 4 2018   LII (52)   Philadelphia Eagles          41   \n",
       "3  Feb 5 2017    LI (51)  New England Patriots          34   \n",
       "4  Feb 7 2016         50        Denver Broncos          24   \n",
       "\n",
       "                  Loser  Loser Pts              MVP                Stadium  \\\n",
       "0   San Francisco 49ers         20  Patrick Mahomes      Hard Rock Stadium   \n",
       "1      Los Angeles Rams          3   Julian Edelman  Mercedes-Benz Stadium   \n",
       "2  New England Patriots         33       Nick Foles      U.S. Bank Stadium   \n",
       "3       Atlanta Falcons         28        Tom Brady            NRG Stadium   \n",
       "4     Carolina Panthers         10       Von Miller         Levi's Stadium   \n",
       "\n",
       "            City       State  \n",
       "0  Miami Gardens     Florida  \n",
       "1        Atlanta     Georgia  \n",
       "2    Minneapolis   Minnesota  \n",
       "3        Houston       Texas  \n",
       "4    Santa Clara  California  "
      ]
     },
     "execution_count": 2,
     "metadata": {},
     "output_type": "execute_result"
    }
   ],
   "source": [
    "data=pd.read_csv(\"/kaggle/input/superbowl-history-1967-2020/superbowl.csv\")\n",
    "\n",
    "data.head()"
   ]
  },
  {
   "cell_type": "code",
   "execution_count": 3,
   "metadata": {
    "execution": {
     "iopub.execute_input": "2021-02-26T13:27:06.076290Z",
     "iopub.status.busy": "2021-02-26T13:27:06.075410Z",
     "iopub.status.idle": "2021-02-26T13:27:06.078792Z",
     "shell.execute_reply": "2021-02-26T13:27:06.078143Z"
    },
    "papermill": {
     "duration": 0.035707,
     "end_time": "2021-02-26T13:27:06.078959",
     "exception": false,
     "start_time": "2021-02-26T13:27:06.043252",
     "status": "completed"
    },
    "tags": []
   },
   "outputs": [],
   "source": [
    "data.SB = [each[-3:-1:1] if len(each)>=3 else each for each in data.SB]\n",
    "data.SB = [each[1:] if each[0]==\"(\" else each for each in data.SB]"
   ]
  },
  {
   "cell_type": "markdown",
   "metadata": {
    "papermill": {
     "duration": 0.023374,
     "end_time": "2021-02-26T13:27:06.127039",
     "exception": false,
     "start_time": "2021-02-26T13:27:06.103665",
     "status": "completed"
    },
    "tags": []
   },
   "source": [
    "In this part, I changed all roman numbers into normal form. Actually, I did not use this part, but I changed it in case that I will need that."
   ]
  },
  {
   "cell_type": "code",
   "execution_count": 4,
   "metadata": {
    "execution": {
     "iopub.execute_input": "2021-02-26T13:27:06.192128Z",
     "iopub.status.busy": "2021-02-26T13:27:06.191133Z",
     "iopub.status.idle": "2021-02-26T13:27:06.196791Z",
     "shell.execute_reply": "2021-02-26T13:27:06.196141Z"
    },
    "papermill": {
     "duration": 0.044734,
     "end_time": "2021-02-26T13:27:06.196971",
     "exception": false,
     "start_time": "2021-02-26T13:27:06.152237",
     "status": "completed"
    },
    "tags": []
   },
   "outputs": [
    {
     "data": {
      "text/html": [
       "<div>\n",
       "<style scoped>\n",
       "    .dataframe tbody tr th:only-of-type {\n",
       "        vertical-align: middle;\n",
       "    }\n",
       "\n",
       "    .dataframe tbody tr th {\n",
       "        vertical-align: top;\n",
       "    }\n",
       "\n",
       "    .dataframe thead th {\n",
       "        text-align: right;\n",
       "    }\n",
       "</style>\n",
       "<table border=\"1\" class=\"dataframe\">\n",
       "  <thead>\n",
       "    <tr style=\"text-align: right;\">\n",
       "      <th></th>\n",
       "      <th>Date</th>\n",
       "      <th>SB</th>\n",
       "      <th>Winner</th>\n",
       "      <th>Winner Pts</th>\n",
       "      <th>Loser</th>\n",
       "      <th>Loser Pts</th>\n",
       "      <th>MVP</th>\n",
       "      <th>Stadium</th>\n",
       "      <th>City</th>\n",
       "      <th>State</th>\n",
       "    </tr>\n",
       "  </thead>\n",
       "  <tbody>\n",
       "    <tr>\n",
       "      <th>0</th>\n",
       "      <td>Feb 2 2020</td>\n",
       "      <td>54</td>\n",
       "      <td>Kansas City Chiefs</td>\n",
       "      <td>31</td>\n",
       "      <td>San Francisco 49ers</td>\n",
       "      <td>20</td>\n",
       "      <td>Patrick Mahomes</td>\n",
       "      <td>Hard Rock Stadium</td>\n",
       "      <td>Miami Gardens</td>\n",
       "      <td>Florida</td>\n",
       "    </tr>\n",
       "    <tr>\n",
       "      <th>1</th>\n",
       "      <td>Feb 3 2019</td>\n",
       "      <td>53</td>\n",
       "      <td>New England Patriots</td>\n",
       "      <td>13</td>\n",
       "      <td>Los Angeles Rams</td>\n",
       "      <td>3</td>\n",
       "      <td>Julian Edelman</td>\n",
       "      <td>Mercedes-Benz Stadium</td>\n",
       "      <td>Atlanta</td>\n",
       "      <td>Georgia</td>\n",
       "    </tr>\n",
       "    <tr>\n",
       "      <th>2</th>\n",
       "      <td>Feb 4 2018</td>\n",
       "      <td>52</td>\n",
       "      <td>Philadelphia Eagles</td>\n",
       "      <td>41</td>\n",
       "      <td>New England Patriots</td>\n",
       "      <td>33</td>\n",
       "      <td>Nick Foles</td>\n",
       "      <td>U.S. Bank Stadium</td>\n",
       "      <td>Minneapolis</td>\n",
       "      <td>Minnesota</td>\n",
       "    </tr>\n",
       "    <tr>\n",
       "      <th>3</th>\n",
       "      <td>Feb 5 2017</td>\n",
       "      <td>51</td>\n",
       "      <td>New England Patriots</td>\n",
       "      <td>34</td>\n",
       "      <td>Atlanta Falcons</td>\n",
       "      <td>28</td>\n",
       "      <td>Tom Brady</td>\n",
       "      <td>NRG Stadium</td>\n",
       "      <td>Houston</td>\n",
       "      <td>Texas</td>\n",
       "    </tr>\n",
       "    <tr>\n",
       "      <th>4</th>\n",
       "      <td>Feb 7 2016</td>\n",
       "      <td>50</td>\n",
       "      <td>Denver Broncos</td>\n",
       "      <td>24</td>\n",
       "      <td>Carolina Panthers</td>\n",
       "      <td>10</td>\n",
       "      <td>Von Miller</td>\n",
       "      <td>Levi's Stadium</td>\n",
       "      <td>Santa Clara</td>\n",
       "      <td>California</td>\n",
       "    </tr>\n",
       "  </tbody>\n",
       "</table>\n",
       "</div>"
      ],
      "text/plain": [
       "         Date  SB                Winner  Winner Pts                 Loser  \\\n",
       "0  Feb 2 2020  54    Kansas City Chiefs          31   San Francisco 49ers   \n",
       "1  Feb 3 2019  53  New England Patriots          13      Los Angeles Rams   \n",
       "2  Feb 4 2018  52   Philadelphia Eagles          41  New England Patriots   \n",
       "3  Feb 5 2017  51  New England Patriots          34       Atlanta Falcons   \n",
       "4  Feb 7 2016  50        Denver Broncos          24     Carolina Panthers   \n",
       "\n",
       "   Loser Pts              MVP                Stadium           City  \\\n",
       "0         20  Patrick Mahomes      Hard Rock Stadium  Miami Gardens   \n",
       "1          3   Julian Edelman  Mercedes-Benz Stadium        Atlanta   \n",
       "2         33       Nick Foles      U.S. Bank Stadium    Minneapolis   \n",
       "3         28        Tom Brady            NRG Stadium        Houston   \n",
       "4         10       Von Miller         Levi's Stadium    Santa Clara   \n",
       "\n",
       "        State  \n",
       "0     Florida  \n",
       "1     Georgia  \n",
       "2   Minnesota  \n",
       "3       Texas  \n",
       "4  California  "
      ]
     },
     "execution_count": 4,
     "metadata": {},
     "output_type": "execute_result"
    }
   ],
   "source": [
    "data.head()"
   ]
  },
  {
   "cell_type": "code",
   "execution_count": 5,
   "metadata": {
    "execution": {
     "iopub.execute_input": "2021-02-26T13:27:06.256550Z",
     "iopub.status.busy": "2021-02-26T13:27:06.255875Z",
     "iopub.status.idle": "2021-02-26T13:27:06.259460Z",
     "shell.execute_reply": "2021-02-26T13:27:06.258786Z"
    },
    "papermill": {
     "duration": 0.03688,
     "end_time": "2021-02-26T13:27:06.259606",
     "exception": false,
     "start_time": "2021-02-26T13:27:06.222726",
     "status": "completed"
    },
    "tags": []
   },
   "outputs": [],
   "source": [
    "data=data.iloc[np.arange(0,54),np.arange(1,10)]"
   ]
  },
  {
   "cell_type": "code",
   "execution_count": 6,
   "metadata": {
    "execution": {
     "iopub.execute_input": "2021-02-26T13:27:06.325012Z",
     "iopub.status.busy": "2021-02-26T13:27:06.324299Z",
     "iopub.status.idle": "2021-02-26T13:27:06.328616Z",
     "shell.execute_reply": "2021-02-26T13:27:06.327975Z"
    },
    "papermill": {
     "duration": 0.04555,
     "end_time": "2021-02-26T13:27:06.328779",
     "exception": false,
     "start_time": "2021-02-26T13:27:06.283229",
     "status": "completed"
    },
    "tags": []
   },
   "outputs": [
    {
     "data": {
      "text/html": [
       "<div>\n",
       "<style scoped>\n",
       "    .dataframe tbody tr th:only-of-type {\n",
       "        vertical-align: middle;\n",
       "    }\n",
       "\n",
       "    .dataframe tbody tr th {\n",
       "        vertical-align: top;\n",
       "    }\n",
       "\n",
       "    .dataframe thead th {\n",
       "        text-align: right;\n",
       "    }\n",
       "</style>\n",
       "<table border=\"1\" class=\"dataframe\">\n",
       "  <thead>\n",
       "    <tr style=\"text-align: right;\">\n",
       "      <th></th>\n",
       "      <th>SB</th>\n",
       "      <th>Winner</th>\n",
       "      <th>Winner Pts</th>\n",
       "      <th>Loser</th>\n",
       "      <th>Loser Pts</th>\n",
       "      <th>MVP</th>\n",
       "      <th>Stadium</th>\n",
       "      <th>City</th>\n",
       "      <th>State</th>\n",
       "    </tr>\n",
       "  </thead>\n",
       "  <tbody>\n",
       "    <tr>\n",
       "      <th>0</th>\n",
       "      <td>54</td>\n",
       "      <td>Kansas City Chiefs</td>\n",
       "      <td>31</td>\n",
       "      <td>San Francisco 49ers</td>\n",
       "      <td>20</td>\n",
       "      <td>Patrick Mahomes</td>\n",
       "      <td>Hard Rock Stadium</td>\n",
       "      <td>Miami Gardens</td>\n",
       "      <td>Florida</td>\n",
       "    </tr>\n",
       "    <tr>\n",
       "      <th>1</th>\n",
       "      <td>53</td>\n",
       "      <td>New England Patriots</td>\n",
       "      <td>13</td>\n",
       "      <td>Los Angeles Rams</td>\n",
       "      <td>3</td>\n",
       "      <td>Julian Edelman</td>\n",
       "      <td>Mercedes-Benz Stadium</td>\n",
       "      <td>Atlanta</td>\n",
       "      <td>Georgia</td>\n",
       "    </tr>\n",
       "    <tr>\n",
       "      <th>2</th>\n",
       "      <td>52</td>\n",
       "      <td>Philadelphia Eagles</td>\n",
       "      <td>41</td>\n",
       "      <td>New England Patriots</td>\n",
       "      <td>33</td>\n",
       "      <td>Nick Foles</td>\n",
       "      <td>U.S. Bank Stadium</td>\n",
       "      <td>Minneapolis</td>\n",
       "      <td>Minnesota</td>\n",
       "    </tr>\n",
       "    <tr>\n",
       "      <th>3</th>\n",
       "      <td>51</td>\n",
       "      <td>New England Patriots</td>\n",
       "      <td>34</td>\n",
       "      <td>Atlanta Falcons</td>\n",
       "      <td>28</td>\n",
       "      <td>Tom Brady</td>\n",
       "      <td>NRG Stadium</td>\n",
       "      <td>Houston</td>\n",
       "      <td>Texas</td>\n",
       "    </tr>\n",
       "    <tr>\n",
       "      <th>4</th>\n",
       "      <td>50</td>\n",
       "      <td>Denver Broncos</td>\n",
       "      <td>24</td>\n",
       "      <td>Carolina Panthers</td>\n",
       "      <td>10</td>\n",
       "      <td>Von Miller</td>\n",
       "      <td>Levi's Stadium</td>\n",
       "      <td>Santa Clara</td>\n",
       "      <td>California</td>\n",
       "    </tr>\n",
       "  </tbody>\n",
       "</table>\n",
       "</div>"
      ],
      "text/plain": [
       "   SB                Winner  Winner Pts                 Loser  Loser Pts  \\\n",
       "0  54    Kansas City Chiefs          31   San Francisco 49ers         20   \n",
       "1  53  New England Patriots          13      Los Angeles Rams          3   \n",
       "2  52   Philadelphia Eagles          41  New England Patriots         33   \n",
       "3  51  New England Patriots          34       Atlanta Falcons         28   \n",
       "4  50        Denver Broncos          24     Carolina Panthers         10   \n",
       "\n",
       "               MVP                Stadium           City       State  \n",
       "0  Patrick Mahomes      Hard Rock Stadium  Miami Gardens     Florida  \n",
       "1   Julian Edelman  Mercedes-Benz Stadium        Atlanta     Georgia  \n",
       "2       Nick Foles      U.S. Bank Stadium    Minneapolis   Minnesota  \n",
       "3        Tom Brady            NRG Stadium        Houston       Texas  \n",
       "4       Von Miller         Levi's Stadium    Santa Clara  California  "
      ]
     },
     "execution_count": 6,
     "metadata": {},
     "output_type": "execute_result"
    }
   ],
   "source": [
    "data.head()"
   ]
  },
  {
   "cell_type": "markdown",
   "metadata": {
    "papermill": {
     "duration": 0.024144,
     "end_time": "2021-02-26T13:27:06.378056",
     "exception": false,
     "start_time": "2021-02-26T13:27:06.353912",
     "status": "completed"
    },
    "tags": []
   },
   "source": [
    "<a id=\"2\"></a><br>\n",
    "## Sorter and Swap Functions"
   ]
  },
  {
   "cell_type": "code",
   "execution_count": 7,
   "metadata": {
    "execution": {
     "iopub.execute_input": "2021-02-26T13:27:06.433705Z",
     "iopub.status.busy": "2021-02-26T13:27:06.433019Z",
     "iopub.status.idle": "2021-02-26T13:27:06.436134Z",
     "shell.execute_reply": "2021-02-26T13:27:06.435487Z"
    },
    "papermill": {
     "duration": 0.031821,
     "end_time": "2021-02-26T13:27:06.436302",
     "exception": false,
     "start_time": "2021-02-26T13:27:06.404481",
     "status": "completed"
    },
    "tags": []
   },
   "outputs": [],
   "source": [
    "def swap(a,i,j):\n",
    "    temp=a[i]\n",
    "    a[i]=a[j]\n",
    "    a[j]=temp"
   ]
  },
  {
   "cell_type": "code",
   "execution_count": 8,
   "metadata": {
    "execution": {
     "iopub.execute_input": "2021-02-26T13:27:06.493310Z",
     "iopub.status.busy": "2021-02-26T13:27:06.492421Z",
     "iopub.status.idle": "2021-02-26T13:27:06.496443Z",
     "shell.execute_reply": "2021-02-26T13:27:06.495700Z"
    },
    "papermill": {
     "duration": 0.034748,
     "end_time": "2021-02-26T13:27:06.496593",
     "exception": false,
     "start_time": "2021-02-26T13:27:06.461845",
     "status": "completed"
    },
    "tags": []
   },
   "outputs": [],
   "source": [
    "def sorter(list1,list2):\n",
    "    length=len(list1)\n",
    "\n",
    "    for i in range(0,length):\n",
    "        for j in range(0,length):\n",
    "            if list2[i]>list2[j]:\n",
    "                swap(list2,i,j)\n",
    "                swap(list1,i,j)"
   ]
  },
  {
   "cell_type": "markdown",
   "metadata": {
    "papermill": {
     "duration": 0.026276,
     "end_time": "2021-02-26T13:27:06.548003",
     "exception": false,
     "start_time": "2021-02-26T13:27:06.521727",
     "status": "completed"
    },
    "tags": []
   },
   "source": [
    "<a id=\"3\"></a><br>\n",
    "## Determining and Sorting Teams Win and Lose Counts"
   ]
  },
  {
   "cell_type": "markdown",
   "metadata": {
    "papermill": {
     "duration": 0.026395,
     "end_time": "2021-02-26T13:27:06.600881",
     "exception": false,
     "start_time": "2021-02-26T13:27:06.574486",
     "status": "completed"
    },
    "tags": []
   },
   "source": [
    "In the third part of my notebook, I looked for NFL teams Superbowl performances."
   ]
  },
  {
   "cell_type": "code",
   "execution_count": 9,
   "metadata": {
    "execution": {
     "iopub.execute_input": "2021-02-26T13:27:06.660562Z",
     "iopub.status.busy": "2021-02-26T13:27:06.659489Z",
     "iopub.status.idle": "2021-02-26T13:27:06.663492Z",
     "shell.execute_reply": "2021-02-26T13:27:06.664115Z"
    },
    "papermill": {
     "duration": 0.037602,
     "end_time": "2021-02-26T13:27:06.664301",
     "exception": false,
     "start_time": "2021-02-26T13:27:06.626699",
     "status": "completed"
    },
    "tags": []
   },
   "outputs": [],
   "source": [
    "final_winner_teams=data.Winner.unique()\n",
    "win_count=[]\n",
    "\n",
    "for i in range(0,len(final_winner_teams)):\n",
    "    count=0\n",
    "    for j in data.Winner:\n",
    "        if j==final_winner_teams[i]:\n",
    "            count=count+1\n",
    "    win_count.append(count)"
   ]
  },
  {
   "cell_type": "code",
   "execution_count": 10,
   "metadata": {
    "execution": {
     "iopub.execute_input": "2021-02-26T13:27:06.722091Z",
     "iopub.status.busy": "2021-02-26T13:27:06.720943Z",
     "iopub.status.idle": "2021-02-26T13:27:06.725941Z",
     "shell.execute_reply": "2021-02-26T13:27:06.726500Z"
    },
    "papermill": {
     "duration": 0.035646,
     "end_time": "2021-02-26T13:27:06.726676",
     "exception": false,
     "start_time": "2021-02-26T13:27:06.691030",
     "status": "completed"
    },
    "tags": []
   },
   "outputs": [],
   "source": [
    "sorter(final_winner_teams,win_count)"
   ]
  },
  {
   "cell_type": "code",
   "execution_count": 11,
   "metadata": {
    "execution": {
     "iopub.execute_input": "2021-02-26T13:27:06.784673Z",
     "iopub.status.busy": "2021-02-26T13:27:06.783645Z",
     "iopub.status.idle": "2021-02-26T13:27:06.797388Z",
     "shell.execute_reply": "2021-02-26T13:27:06.798962Z"
    },
    "papermill": {
     "duration": 0.047169,
     "end_time": "2021-02-26T13:27:06.799304",
     "exception": false,
     "start_time": "2021-02-26T13:27:06.752135",
     "status": "completed"
    },
    "tags": []
   },
   "outputs": [
    {
     "name": "stdout",
     "output_type": "stream",
     "text": [
      "New England Patriots : 6 \n",
      "\n",
      "Pittsburgh Steelers : 6 \n",
      "\n",
      "Dallas Cowboys : 5 \n",
      "\n",
      "San Francisco 49ers : 5 \n",
      "\n",
      "Green Bay Packers : 4 \n",
      "\n",
      "New York Giants : 4 \n",
      "\n",
      "Denver Broncos : 3 \n",
      "\n",
      "Washington Redskins : 3 \n",
      "\n",
      "Kansas City Chiefs : 2 \n",
      "\n",
      "Baltimore Ravens : 2 \n",
      "\n",
      "Oakland Raiders : 2 \n",
      "\n",
      "Miami Dolphins : 2 \n",
      "\n",
      "St. Louis Rams : 1 \n",
      "\n",
      "Philadelphia Eagles : 1 \n",
      "\n",
      "New Orleans Saints : 1 \n",
      "\n",
      "Seattle Seahawks : 1 \n",
      "\n",
      "Chicago Bears : 1 \n",
      "\n",
      "Los Angeles Raiders : 1 \n",
      "\n",
      "Indianapolis Colts : 1 \n",
      "\n",
      "Tampa Bay Buccaneers : 1 \n",
      "\n",
      "Baltimore Colts : 1 \n",
      "\n",
      "New York Jets : 1 \n",
      "\n"
     ]
    }
   ],
   "source": [
    "for i in range(0,len(final_winner_teams)):\n",
    "    print(final_winner_teams[i],\":\",win_count[i],\"\\n\")"
   ]
  },
  {
   "cell_type": "markdown",
   "metadata": {
    "papermill": {
     "duration": 0.025065,
     "end_time": "2021-02-26T13:27:06.851540",
     "exception": false,
     "start_time": "2021-02-26T13:27:06.826475",
     "status": "completed"
    },
    "tags": []
   },
   "source": [
    "According to the results above, we can say that New England Patriots and Pittsburgh Steelers are the most successful teams in the league."
   ]
  },
  {
   "cell_type": "code",
   "execution_count": 12,
   "metadata": {
    "execution": {
     "iopub.execute_input": "2021-02-26T13:27:06.913268Z",
     "iopub.status.busy": "2021-02-26T13:27:06.912298Z",
     "iopub.status.idle": "2021-02-26T13:27:06.916371Z",
     "shell.execute_reply": "2021-02-26T13:27:06.915724Z"
    },
    "papermill": {
     "duration": 0.0398,
     "end_time": "2021-02-26T13:27:06.916523",
     "exception": false,
     "start_time": "2021-02-26T13:27:06.876723",
     "status": "completed"
    },
    "tags": []
   },
   "outputs": [],
   "source": [
    "final_loser_teams=data.Loser.unique()\n",
    "loose_count=[]\n",
    "\n",
    "for i in range(0,len(final_loser_teams)):\n",
    "    count=0\n",
    "    for j in data.Loser:\n",
    "        if j==final_loser_teams[i]:\n",
    "            count=count+1\n",
    "    loose_count.append(count)"
   ]
  },
  {
   "cell_type": "code",
   "execution_count": 13,
   "metadata": {
    "execution": {
     "iopub.execute_input": "2021-02-26T13:27:06.978429Z",
     "iopub.status.busy": "2021-02-26T13:27:06.977652Z",
     "iopub.status.idle": "2021-02-26T13:27:06.980535Z",
     "shell.execute_reply": "2021-02-26T13:27:06.979882Z"
    },
    "papermill": {
     "duration": 0.03737,
     "end_time": "2021-02-26T13:27:06.980684",
     "exception": false,
     "start_time": "2021-02-26T13:27:06.943314",
     "status": "completed"
    },
    "tags": []
   },
   "outputs": [],
   "source": [
    "sorter(final_loser_teams,loose_count)"
   ]
  },
  {
   "cell_type": "code",
   "execution_count": 14,
   "metadata": {
    "execution": {
     "iopub.execute_input": "2021-02-26T13:27:07.042733Z",
     "iopub.status.busy": "2021-02-26T13:27:07.042069Z",
     "iopub.status.idle": "2021-02-26T13:27:07.049350Z",
     "shell.execute_reply": "2021-02-26T13:27:07.049908Z"
    },
    "papermill": {
     "duration": 0.04252,
     "end_time": "2021-02-26T13:27:07.050097",
     "exception": false,
     "start_time": "2021-02-26T13:27:07.007577",
     "status": "completed"
    },
    "tags": []
   },
   "outputs": [
    {
     "name": "stdout",
     "output_type": "stream",
     "text": [
      "New England Patriots : 5 \n",
      "\n",
      "Denver Broncos : 5 \n",
      "\n",
      "Buffalo Bills : 4 \n",
      "\n",
      "Minnesota Vikings : 4 \n",
      "\n",
      "Dallas Cowboys : 3 \n",
      "\n",
      "Miami Dolphins : 3 \n",
      "\n",
      "Pittsburgh Steelers : 2 \n",
      "\n",
      "San Francisco 49ers : 2 \n",
      "\n",
      "Philadelphia Eagles : 2 \n",
      "\n",
      "Oakland Raiders : 2 \n",
      "\n",
      "Atlanta Falcons : 2 \n",
      "\n",
      "Cincinnati Bengals : 2 \n",
      "\n",
      "Carolina Panthers : 2 \n",
      "\n",
      "Washington Redskins : 2 \n",
      "\n",
      "Seattle Seahawks : 2 \n",
      "\n",
      "Los Angeles Rams : 2 \n",
      "\n",
      "Green Bay Packers : 1 \n",
      "\n",
      "San Diego Chargers : 1 \n",
      "\n",
      "Chicago Bears : 1 \n",
      "\n",
      "Indianapolis Colts : 1 \n",
      "\n",
      "Arizona Cardinals : 1 \n",
      "\n",
      "St. Louis Rams : 1 \n",
      "\n",
      "New York Giants : 1 \n",
      "\n",
      "Tennessee Titans : 1 \n",
      "\n",
      "Baltimore Colts : 1 \n",
      "\n",
      "Kansas City Chiefs : 1 \n",
      "\n"
     ]
    }
   ],
   "source": [
    "for i in range(0,len(final_loser_teams)):\n",
    "    print(final_loser_teams[i],\":\",loose_count[i],\"\\n\")"
   ]
  },
  {
   "cell_type": "markdown",
   "metadata": {
    "papermill": {
     "duration": 0.028156,
     "end_time": "2021-02-26T13:27:07.113026",
     "exception": false,
     "start_time": "2021-02-26T13:27:07.084870",
     "status": "completed"
    },
    "tags": []
   },
   "source": [
    "By looking at the numbers, that written above, New England Patriots and Denver Broncos have lost 5 games at Superbowl. Overall, New England Patriots have been played in 11 Superbowls and they win more than 50%. According to that, I can say that playing Superbowls became for New England Patriots is kinda usual situation."
   ]
  },
  {
   "cell_type": "code",
   "execution_count": 15,
   "metadata": {
    "execution": {
     "iopub.execute_input": "2021-02-26T13:27:07.181153Z",
     "iopub.status.busy": "2021-02-26T13:27:07.180387Z",
     "iopub.status.idle": "2021-02-26T13:27:07.185520Z",
     "shell.execute_reply": "2021-02-26T13:27:07.184556Z"
    },
    "papermill": {
     "duration": 0.044118,
     "end_time": "2021-02-26T13:27:07.185734",
     "exception": false,
     "start_time": "2021-02-26T13:27:07.141616",
     "status": "completed"
    },
    "tags": []
   },
   "outputs": [
    {
     "name": "stdout",
     "output_type": "stream",
     "text": [
      "Average winner points: 30.11111111111111 \n",
      "Average loser points: 16.203703703703702\n"
     ]
    }
   ],
   "source": [
    "sum_winner=0\n",
    "sum_loser=0\n",
    "\n",
    "for i in range(0,len(data[\"Winner Pts\"])):\n",
    "    sum_winner=sum_winner+data[\"Winner Pts\"][i]\n",
    "    sum_loser=sum_loser+data[\"Loser Pts\"][i]\n",
    "\n",
    "winner_avg=sum_winner/len(data[\"Winner Pts\"])\n",
    "loser_avg=sum_loser/len(data[\"Winner Pts\"])\n",
    "\n",
    "print(\"Average winner points:\",winner_avg,\"\\nAverage loser points:\",loser_avg)"
   ]
  },
  {
   "cell_type": "markdown",
   "metadata": {
    "papermill": {
     "duration": 0.029538,
     "end_time": "2021-02-26T13:27:07.244339",
     "exception": false,
     "start_time": "2021-02-26T13:27:07.214801",
     "status": "completed"
    },
    "tags": []
   },
   "source": [
    "This part says that, if your team scores 30 points or more, you can take a deep breath and continue watching the game without feeling terrified. But you should also keep in mind that this will not hold for every match."
   ]
  },
  {
   "cell_type": "markdown",
   "metadata": {
    "papermill": {
     "duration": 0.029089,
     "end_time": "2021-02-26T13:27:07.301945",
     "exception": false,
     "start_time": "2021-02-26T13:27:07.272856",
     "status": "completed"
    },
    "tags": []
   },
   "source": [
    "<a id=\"4\"></a><br>\n",
    "## MVPs"
   ]
  },
  {
   "cell_type": "markdown",
   "metadata": {
    "papermill": {
     "duration": 0.027494,
     "end_time": "2021-02-26T13:27:07.358935",
     "exception": false,
     "start_time": "2021-02-26T13:27:07.331441",
     "status": "completed"
    },
    "tags": []
   },
   "source": [
    "In this part, I looked for the player who has more awards than other players."
   ]
  },
  {
   "cell_type": "code",
   "execution_count": 16,
   "metadata": {
    "execution": {
     "iopub.execute_input": "2021-02-26T13:27:07.419035Z",
     "iopub.status.busy": "2021-02-26T13:27:07.418344Z",
     "iopub.status.idle": "2021-02-26T13:27:07.423417Z",
     "shell.execute_reply": "2021-02-26T13:27:07.422780Z"
    },
    "papermill": {
     "duration": 0.038126,
     "end_time": "2021-02-26T13:27:07.423606",
     "exception": false,
     "start_time": "2021-02-26T13:27:07.385480",
     "status": "completed"
    },
    "tags": []
   },
   "outputs": [],
   "source": [
    "data.MVP=[each[:-1:1] if each[-1]==\"+\" else each for each in data.MVP]"
   ]
  },
  {
   "cell_type": "code",
   "execution_count": 17,
   "metadata": {
    "execution": {
     "iopub.execute_input": "2021-02-26T13:27:07.490051Z",
     "iopub.status.busy": "2021-02-26T13:27:07.489055Z",
     "iopub.status.idle": "2021-02-26T13:27:07.492344Z",
     "shell.execute_reply": "2021-02-26T13:27:07.491675Z"
    },
    "papermill": {
     "duration": 0.039511,
     "end_time": "2021-02-26T13:27:07.492495",
     "exception": false,
     "start_time": "2021-02-26T13:27:07.452984",
     "status": "completed"
    },
    "tags": []
   },
   "outputs": [],
   "source": [
    "MVP_list=data.MVP.unique()\n",
    "MVP_numbers=[]\n",
    "\n",
    "for i in MVP_list:\n",
    "    count=0\n",
    "    for j in data.MVP:\n",
    "        if i==j:\n",
    "            count=count+1\n",
    "    MVP_numbers.append(count)\n",
    "    "
   ]
  },
  {
   "cell_type": "code",
   "execution_count": 18,
   "metadata": {
    "execution": {
     "iopub.execute_input": "2021-02-26T13:27:07.555592Z",
     "iopub.status.busy": "2021-02-26T13:27:07.554502Z",
     "iopub.status.idle": "2021-02-26T13:27:07.558608Z",
     "shell.execute_reply": "2021-02-26T13:27:07.557892Z"
    },
    "papermill": {
     "duration": 0.038106,
     "end_time": "2021-02-26T13:27:07.558773",
     "exception": false,
     "start_time": "2021-02-26T13:27:07.520667",
     "status": "completed"
    },
    "tags": []
   },
   "outputs": [],
   "source": [
    "sorter(MVP_list,MVP_numbers)"
   ]
  },
  {
   "cell_type": "code",
   "execution_count": 19,
   "metadata": {
    "execution": {
     "iopub.execute_input": "2021-02-26T13:27:07.623709Z",
     "iopub.status.busy": "2021-02-26T13:27:07.622603Z",
     "iopub.status.idle": "2021-02-26T13:27:07.635495Z",
     "shell.execute_reply": "2021-02-26T13:27:07.634547Z"
    },
    "papermill": {
     "duration": 0.047086,
     "end_time": "2021-02-26T13:27:07.635700",
     "exception": false,
     "start_time": "2021-02-26T13:27:07.588614",
     "status": "completed"
    },
    "tags": []
   },
   "outputs": [
    {
     "name": "stdout",
     "output_type": "stream",
     "text": [
      "Tom Brady : 4 \n",
      "\n",
      "Joe Montana : 3 \n",
      "\n",
      "Eli Manning : 2 \n",
      "\n",
      "Terry Bradshaw : 2 \n",
      "\n",
      "Bart Starr : 2 \n",
      "\n",
      "Malcolm Smith : 1 \n",
      "\n",
      "Joe Flacco : 1 \n",
      "\n",
      "Julian Edelman : 1 \n",
      "\n",
      "Aaron Rodgers : 1 \n",
      "\n",
      "Drew Brees : 1 \n",
      "\n",
      "Santonio Holmes : 1 \n",
      "\n",
      "Peyton Manning : 1 \n",
      "\n",
      "Hines Ward : 1 \n",
      "\n",
      "Deion Branch : 1 \n",
      "\n",
      "Dexter Jackson : 1 \n",
      "\n",
      "Ray Lewis : 1 \n",
      "\n",
      "Kurt Warner : 1 \n",
      "\n",
      "John Elway : 1 \n",
      "\n",
      "Terrell Davis : 1 \n",
      "\n",
      "Desmond Howard : 1 \n",
      "\n",
      "Larry Brown : 1 \n",
      "\n",
      "Steve Young : 1 \n",
      "\n",
      "Emmitt Smith : 1 \n",
      "\n",
      "Troy Aikman : 1 \n",
      "\n",
      "Mark Rypien : 1 \n",
      "\n",
      "Ottis Anderson : 1 \n",
      "\n",
      "Nick Foles : 1 \n",
      "\n",
      "Jerry Rice : 1 \n",
      "\n",
      "Doug Williams : 1 \n",
      "\n",
      "Phil Simms : 1 \n",
      "\n",
      "Richard Dent : 1 \n",
      "\n",
      "Marcus Allen : 1 \n",
      "\n",
      "John Riggins : 1 \n",
      "\n",
      "Jim Plunkett : 1 \n",
      "\n",
      "Patrick Mahomes : 1 \n",
      "\n",
      "Harvey MartinRandy White : 1 \n",
      "\n",
      "Fred Biletnikoff : 1 \n",
      "\n",
      "Lynn Swann : 1 \n",
      "\n",
      "Franco Harris : 1 \n",
      "\n",
      "Larry Csonka : 1 \n",
      "\n",
      "Jake Scott : 1 \n",
      "\n",
      "Roger Staubach : 1 \n",
      "\n",
      "Chuck Howley : 1 \n",
      "\n",
      "Len Dawson : 1 \n",
      "\n",
      "Joe Namath : 1 \n",
      "\n",
      "Von Miller : 1 \n",
      "\n"
     ]
    }
   ],
   "source": [
    "for i in range(0,len(MVP_list)):\n",
    "    print(MVP_list[i],\":\",MVP_numbers[i],\"\\n\")"
   ]
  },
  {
   "cell_type": "markdown",
   "metadata": {
    "papermill": {
     "duration": 0.029214,
     "end_time": "2021-02-26T13:27:07.697117",
     "exception": false,
     "start_time": "2021-02-26T13:27:07.667903",
     "status": "completed"
    },
    "tags": []
   },
   "source": [
    "Tom Brady is one of the best players in the NFL at all times. We can support this idea with the MVP awards that he won."
   ]
  },
  {
   "cell_type": "markdown",
   "metadata": {
    "papermill": {
     "duration": 0.026859,
     "end_time": "2021-02-26T13:27:07.751490",
     "exception": false,
     "start_time": "2021-02-26T13:27:07.724631",
     "status": "completed"
    },
    "tags": []
   },
   "source": [
    "<a id=\"5\"></a><br>\n",
    "## Superbowl Locations"
   ]
  },
  {
   "cell_type": "markdown",
   "metadata": {
    "papermill": {
     "duration": 0.028411,
     "end_time": "2021-02-26T13:27:07.808053",
     "exception": false,
     "start_time": "2021-02-26T13:27:07.779642",
     "status": "completed"
    },
    "tags": []
   },
   "source": [
    "In this section, I changed the given data a bit and after that, I plotted a 3D scatter plot by using plotly. "
   ]
  },
  {
   "cell_type": "code",
   "execution_count": 20,
   "metadata": {
    "execution": {
     "iopub.execute_input": "2021-02-26T13:27:07.910745Z",
     "iopub.status.busy": "2021-02-26T13:27:07.909708Z",
     "iopub.status.idle": "2021-02-26T13:27:07.913348Z",
     "shell.execute_reply": "2021-02-26T13:27:07.914090Z"
    },
    "papermill": {
     "duration": 0.077389,
     "end_time": "2021-02-26T13:27:07.914343",
     "exception": false,
     "start_time": "2021-02-26T13:27:07.836954",
     "status": "completed"
    },
    "tags": []
   },
   "outputs": [
    {
     "name": "stderr",
     "output_type": "stream",
     "text": [
      "/opt/conda/lib/python3.7/site-packages/ipykernel_launcher.py:4: SettingWithCopyWarning: \n",
      "A value is trying to be set on a copy of a slice from a DataFrame\n",
      "\n",
      "See the caveats in the documentation: https://pandas.pydata.org/pandas-docs/stable/user_guide/indexing.html#returning-a-view-versus-a-copy\n",
      "  after removing the cwd from sys.path.\n"
     ]
    }
   ],
   "source": [
    "data[\"City_and_State\"]=data.City\n",
    "\n",
    "for i in range(0,len(data.City)):\n",
    "    data.City_and_State[i]=data.City[i]+\", \"+data.State[i]"
   ]
  },
  {
   "cell_type": "code",
   "execution_count": 21,
   "metadata": {
    "execution": {
     "iopub.execute_input": "2021-02-26T13:27:07.998183Z",
     "iopub.status.busy": "2021-02-26T13:27:07.997138Z",
     "iopub.status.idle": "2021-02-26T13:27:08.018977Z",
     "shell.execute_reply": "2021-02-26T13:27:08.018367Z"
    },
    "papermill": {
     "duration": 0.073979,
     "end_time": "2021-02-26T13:27:08.019151",
     "exception": false,
     "start_time": "2021-02-26T13:27:07.945172",
     "status": "completed"
    },
    "tags": []
   },
   "outputs": [
    {
     "data": {
      "text/html": [
       "<div>\n",
       "<style scoped>\n",
       "    .dataframe tbody tr th:only-of-type {\n",
       "        vertical-align: middle;\n",
       "    }\n",
       "\n",
       "    .dataframe tbody tr th {\n",
       "        vertical-align: top;\n",
       "    }\n",
       "\n",
       "    .dataframe thead th {\n",
       "        text-align: right;\n",
       "    }\n",
       "</style>\n",
       "<table border=\"1\" class=\"dataframe\">\n",
       "  <thead>\n",
       "    <tr style=\"text-align: right;\">\n",
       "      <th></th>\n",
       "      <th>SB</th>\n",
       "      <th>Winner</th>\n",
       "      <th>Winner Pts</th>\n",
       "      <th>Loser</th>\n",
       "      <th>Loser Pts</th>\n",
       "      <th>MVP</th>\n",
       "      <th>Stadium</th>\n",
       "      <th>City_and_State</th>\n",
       "    </tr>\n",
       "  </thead>\n",
       "  <tbody>\n",
       "    <tr>\n",
       "      <th>0</th>\n",
       "      <td>54</td>\n",
       "      <td>Kansas City Chiefs</td>\n",
       "      <td>31</td>\n",
       "      <td>San Francisco 49ers</td>\n",
       "      <td>20</td>\n",
       "      <td>Patrick Mahomes</td>\n",
       "      <td>Hard Rock Stadium</td>\n",
       "      <td>Miami Gardens, Florida</td>\n",
       "    </tr>\n",
       "    <tr>\n",
       "      <th>1</th>\n",
       "      <td>53</td>\n",
       "      <td>New England Patriots</td>\n",
       "      <td>13</td>\n",
       "      <td>Los Angeles Rams</td>\n",
       "      <td>3</td>\n",
       "      <td>Julian Edelman</td>\n",
       "      <td>Mercedes-Benz Stadium</td>\n",
       "      <td>Atlanta, Georgia</td>\n",
       "    </tr>\n",
       "    <tr>\n",
       "      <th>2</th>\n",
       "      <td>52</td>\n",
       "      <td>Philadelphia Eagles</td>\n",
       "      <td>41</td>\n",
       "      <td>New England Patriots</td>\n",
       "      <td>33</td>\n",
       "      <td>Nick Foles</td>\n",
       "      <td>U.S. Bank Stadium</td>\n",
       "      <td>Minneapolis, Minnesota</td>\n",
       "    </tr>\n",
       "    <tr>\n",
       "      <th>3</th>\n",
       "      <td>51</td>\n",
       "      <td>New England Patriots</td>\n",
       "      <td>34</td>\n",
       "      <td>Atlanta Falcons</td>\n",
       "      <td>28</td>\n",
       "      <td>Tom Brady</td>\n",
       "      <td>NRG Stadium</td>\n",
       "      <td>Houston, Texas</td>\n",
       "    </tr>\n",
       "    <tr>\n",
       "      <th>4</th>\n",
       "      <td>50</td>\n",
       "      <td>Denver Broncos</td>\n",
       "      <td>24</td>\n",
       "      <td>Carolina Panthers</td>\n",
       "      <td>10</td>\n",
       "      <td>Von Miller</td>\n",
       "      <td>Levi's Stadium</td>\n",
       "      <td>Santa Clara, California</td>\n",
       "    </tr>\n",
       "  </tbody>\n",
       "</table>\n",
       "</div>"
      ],
      "text/plain": [
       "   SB                Winner  Winner Pts                 Loser  Loser Pts  \\\n",
       "0  54    Kansas City Chiefs          31   San Francisco 49ers         20   \n",
       "1  53  New England Patriots          13      Los Angeles Rams          3   \n",
       "2  52   Philadelphia Eagles          41  New England Patriots         33   \n",
       "3  51  New England Patriots          34       Atlanta Falcons         28   \n",
       "4  50        Denver Broncos          24     Carolina Panthers         10   \n",
       "\n",
       "               MVP                Stadium           City_and_State  \n",
       "0  Patrick Mahomes      Hard Rock Stadium   Miami Gardens, Florida  \n",
       "1   Julian Edelman  Mercedes-Benz Stadium         Atlanta, Georgia  \n",
       "2       Nick Foles      U.S. Bank Stadium   Minneapolis, Minnesota  \n",
       "3        Tom Brady            NRG Stadium           Houston, Texas  \n",
       "4       Von Miller         Levi's Stadium  Santa Clara, California  "
      ]
     },
     "execution_count": 21,
     "metadata": {},
     "output_type": "execute_result"
    }
   ],
   "source": [
    "data.drop([\"City\",\"State\"],axis=1,inplace=True)\n",
    "data.head()"
   ]
  },
  {
   "cell_type": "code",
   "execution_count": 22,
   "metadata": {
    "execution": {
     "iopub.execute_input": "2021-02-26T13:27:08.101297Z",
     "iopub.status.busy": "2021-02-26T13:27:08.100428Z",
     "iopub.status.idle": "2021-02-26T13:27:08.136094Z",
     "shell.execute_reply": "2021-02-26T13:27:08.138065Z"
    },
    "papermill": {
     "duration": 0.082253,
     "end_time": "2021-02-26T13:27:08.138403",
     "exception": false,
     "start_time": "2021-02-26T13:27:08.056150",
     "status": "completed"
    },
    "tags": []
   },
   "outputs": [
    {
     "name": "stdout",
     "output_type": "stream",
     "text": [
      "Hard Rock Stadium : 1\n",
      "Mercedes-Benz Stadium : 1\n",
      "U.S. Bank Stadium : 1\n",
      "NRG Stadium : 1\n",
      "Levi's Stadium : 1\n",
      "University of Phoenix Stadium : 2\n",
      "MetLife Stadium : 1\n",
      "Mercedes-Benz Superdome : 1\n",
      "Lucas Oil Stadium : 1\n",
      "Cowboys Stadium : 1\n",
      "Sun Life Stadium : 1\n",
      "Raymond James Stadium : 2\n",
      "Dolphin Stadium : 1\n",
      "Ford Field : 1\n",
      "Alltel Stadium : 1\n",
      "Reliant Stadium : 1\n",
      "Qualcomm Stadium : 2\n",
      "Louisiana Superdome : 5\n",
      "Georgia Dome : 2\n",
      "Pro Player Stadium : 1\n",
      "Sun Devil Stadium : 1\n",
      "Joe Robbie Stadium : 2\n",
      "Rose Bowl : 5\n",
      "Metrodome : 1\n",
      "Tampa Stadium : 2\n",
      "Jack Murphy Stadium : 1\n",
      "Stanford Stadium : 1\n",
      "Pontiac Silverdome : 1\n",
      "Orange Bowl : 5\n",
      "Superdome : 1\n",
      "Tulane Stadium : 3\n",
      "Rice Stadium : 1\n",
      "Memorial Coliseum : 2\n"
     ]
    }
   ],
   "source": [
    "final_stadiums=data.Stadium.unique()\n",
    "final_locations=[]\n",
    "final_stadium_numbers=[]\n",
    "\n",
    "for i in final_stadiums:\n",
    "    count=0\n",
    "    for j in data.Stadium:\n",
    "        if i==j:\n",
    "            count=count+1\n",
    "    final_stadium_numbers.append(count)\n",
    "    print(i,\":\",count)\n",
    "    \n",
    "for i in final_stadiums:\n",
    "    for j in range(0,len(data.Stadium)):\n",
    "        if i==data.Stadium[j]:\n",
    "            final_locations.append(data.City_and_State[j])\n",
    "            break"
   ]
  },
  {
   "cell_type": "code",
   "execution_count": 23,
   "metadata": {
    "execution": {
     "iopub.execute_input": "2021-02-26T13:27:08.213526Z",
     "iopub.status.busy": "2021-02-26T13:27:08.212699Z",
     "iopub.status.idle": "2021-02-26T13:27:08.216927Z",
     "shell.execute_reply": "2021-02-26T13:27:08.216309Z"
    },
    "papermill": {
     "duration": 0.042443,
     "end_time": "2021-02-26T13:27:08.217083",
     "exception": false,
     "start_time": "2021-02-26T13:27:08.174640",
     "status": "completed"
    },
    "tags": []
   },
   "outputs": [],
   "source": [
    "new_data={\"Final_stadiums\":final_stadiums,\"Final_locations\":final_locations,\"Final_stadium_numbers\":final_stadium_numbers}\n",
    "\n",
    "new_data=pd.DataFrame(new_data)"
   ]
  },
  {
   "cell_type": "code",
   "execution_count": 24,
   "metadata": {
    "execution": {
     "iopub.execute_input": "2021-02-26T13:27:08.285592Z",
     "iopub.status.busy": "2021-02-26T13:27:08.284458Z",
     "iopub.status.idle": "2021-02-26T13:27:10.776931Z",
     "shell.execute_reply": "2021-02-26T13:27:10.776375Z"
    },
    "papermill": {
     "duration": 2.530321,
     "end_time": "2021-02-26T13:27:10.777090",
     "exception": false,
     "start_time": "2021-02-26T13:27:08.246769",
     "status": "completed"
    },
    "tags": []
   },
   "outputs": [
    {
     "data": {
      "text/html": [
       "        <script type=\"text/javascript\">\n",
       "        window.PlotlyConfig = {MathJaxConfig: 'local'};\n",
       "        if (window.MathJax) {MathJax.Hub.Config({SVG: {font: \"STIX-Web\"}});}\n",
       "        if (typeof require !== 'undefined') {\n",
       "        require.undef(\"plotly\");\n",
       "        requirejs.config({\n",
       "            paths: {\n",
       "                'plotly': ['https://cdn.plot.ly/plotly-latest.min']\n",
       "            }\n",
       "        });\n",
       "        require(['plotly'], function(Plotly) {\n",
       "            window._Plotly = Plotly;\n",
       "        });\n",
       "        }\n",
       "        </script>\n",
       "        "
      ]
     },
     "metadata": {},
     "output_type": "display_data"
    },
    {
     "data": {
      "text/html": [
       "<div>                            <div id=\"bfa454d4-9255-47d1-9a60-f54c730cac0b\" class=\"plotly-graph-div\" style=\"height:525px; width:100%;\"></div>            <script type=\"text/javascript\">                require([\"plotly\"], function(Plotly) {                    window.PLOTLYENV=window.PLOTLYENV || {};                                    if (document.getElementById(\"bfa454d4-9255-47d1-9a60-f54c730cac0b\")) {                    Plotly.newPlot(                        \"bfa454d4-9255-47d1-9a60-f54c730cac0b\",                        [{\"hovertemplate\": \"Final_stadiums=%{x}<br>Final_locations=%{y}<br>Final_stadium_numbers=%{marker.color}<extra></extra>\", \"legendgroup\": \"\", \"marker\": {\"color\": [1, 1, 1, 1, 1, 2, 1, 1, 1, 1, 1, 2, 1, 1, 1, 1, 2, 5, 2, 1, 1, 2, 5, 1, 2, 1, 1, 1, 5, 1, 3, 1, 2], \"coloraxis\": \"coloraxis\", \"opacity\": 0.7, \"size\": [1, 1, 1, 1, 1, 2, 1, 1, 1, 1, 1, 2, 1, 1, 1, 1, 2, 5, 2, 1, 1, 2, 5, 1, 2, 1, 1, 1, 5, 1, 3, 1, 2], \"sizemode\": \"area\", \"sizeref\": 0.0125, \"symbol\": \"circle\"}, \"mode\": \"markers\", \"name\": \"\", \"scene\": \"scene\", \"showlegend\": false, \"type\": \"scatter3d\", \"x\": [\"Hard Rock Stadium\", \"Mercedes-Benz Stadium\", \"U.S. Bank Stadium\", \"NRG Stadium\", \"Levi's Stadium\", \"University of Phoenix Stadium\", \"MetLife Stadium\", \"Mercedes-Benz Superdome\", \"Lucas Oil Stadium\", \"Cowboys Stadium\", \"Sun Life Stadium\", \"Raymond James Stadium\", \"Dolphin Stadium\", \"Ford Field\", \"Alltel Stadium\", \"Reliant Stadium\", \"Qualcomm Stadium\", \"Louisiana Superdome\", \"Georgia Dome\", \"Pro Player Stadium\", \"Sun Devil Stadium\", \"Joe Robbie Stadium\", \"Rose Bowl\", \"Metrodome\", \"Tampa Stadium\", \"Jack Murphy Stadium\", \"Stanford Stadium\", \"Pontiac Silverdome\", \"Orange Bowl\", \"Superdome\", \"Tulane Stadium\", \"Rice Stadium\", \"Memorial Coliseum\"], \"y\": [\"Miami Gardens, Florida\", \"Atlanta, Georgia\", \"Minneapolis, Minnesota\", \"Houston, Texas\", \"Santa Clara, California\", \"Glendale, Arizona\", \"East Rutherford, New Jersey\", \"New Orleans, Louisiana\", \"Indianapolis, Indiana\", \"Arlington, Texas\", \"Miami Gardens, Florida\", \"Tampa, Florida\", \"Miami Gardens, Florida\", \"Detroit, Michigan\", \"Jacksonville, Florida\", \"Houston, Texas\", \"San Diego, California\", \"New Orleans, Louisiana\", \"Atlanta, Georgia\", \"Miami Gardens, Florida\", \"Tempe, Arizona\", \"Miami Gardens, Florida\", \"Pasadena, California\", \"Minneapolis, Minnesota\", \"Tampa, Florida\", \"San Diego, California\", \"Palo Alto, California\", \"Pontiac, Michigan\", \"Miami, Florida\", \"New Orleans, Louisiana\", \"New Orleans, Louisiana\", \"Houston, Texas\", \"Los Angeles, California\"], \"z\": [1, 1, 1, 1, 1, 2, 1, 1, 1, 1, 1, 2, 1, 1, 1, 1, 2, 5, 2, 1, 1, 2, 5, 1, 2, 1, 1, 1, 5, 1, 3, 1, 2]}],                        {\"coloraxis\": {\"colorbar\": {\"title\": {\"text\": \"Final_stadium_numbers\"}}, \"colorscale\": [[0.0, \"#0d0887\"], [0.1111111111111111, \"#46039f\"], [0.2222222222222222, \"#7201a8\"], [0.3333333333333333, \"#9c179e\"], [0.4444444444444444, \"#bd3786\"], [0.5555555555555556, \"#d8576b\"], [0.6666666666666666, \"#ed7953\"], [0.7777777777777778, \"#fb9f3a\"], [0.8888888888888888, \"#fdca26\"], [1.0, \"#f0f921\"]]}, \"legend\": {\"itemsizing\": \"constant\", \"tracegroupgap\": 0}, \"margin\": {\"b\": 0, \"l\": 0, \"r\": 0, \"t\": 0}, \"scene\": {\"domain\": {\"x\": [0.0, 1.0], \"y\": [0.0, 1.0]}, \"xaxis\": {\"title\": {\"text\": \"Final_stadiums\"}}, \"yaxis\": {\"title\": {\"text\": \"Final_locations\"}}, \"zaxis\": {\"title\": {\"text\": \"Final_stadium_numbers\"}}}, \"template\": {\"data\": {\"bar\": [{\"error_x\": {\"color\": \"#2a3f5f\"}, \"error_y\": {\"color\": \"#2a3f5f\"}, \"marker\": {\"line\": {\"color\": \"#E5ECF6\", \"width\": 0.5}}, \"type\": \"bar\"}], \"barpolar\": [{\"marker\": {\"line\": {\"color\": \"#E5ECF6\", \"width\": 0.5}}, \"type\": \"barpolar\"}], \"carpet\": [{\"aaxis\": {\"endlinecolor\": \"#2a3f5f\", \"gridcolor\": \"white\", \"linecolor\": \"white\", \"minorgridcolor\": \"white\", \"startlinecolor\": \"#2a3f5f\"}, \"baxis\": {\"endlinecolor\": \"#2a3f5f\", \"gridcolor\": \"white\", \"linecolor\": \"white\", \"minorgridcolor\": \"white\", \"startlinecolor\": \"#2a3f5f\"}, \"type\": \"carpet\"}], \"choropleth\": [{\"colorbar\": {\"outlinewidth\": 0, \"ticks\": \"\"}, \"type\": \"choropleth\"}], \"contour\": [{\"colorbar\": {\"outlinewidth\": 0, \"ticks\": \"\"}, \"colorscale\": [[0.0, \"#0d0887\"], [0.1111111111111111, \"#46039f\"], [0.2222222222222222, \"#7201a8\"], [0.3333333333333333, \"#9c179e\"], [0.4444444444444444, \"#bd3786\"], [0.5555555555555556, \"#d8576b\"], [0.6666666666666666, \"#ed7953\"], [0.7777777777777778, \"#fb9f3a\"], [0.8888888888888888, \"#fdca26\"], [1.0, \"#f0f921\"]], \"type\": \"contour\"}], \"contourcarpet\": [{\"colorbar\": {\"outlinewidth\": 0, \"ticks\": \"\"}, \"type\": \"contourcarpet\"}], \"heatmap\": [{\"colorbar\": {\"outlinewidth\": 0, \"ticks\": \"\"}, \"colorscale\": [[0.0, \"#0d0887\"], [0.1111111111111111, \"#46039f\"], [0.2222222222222222, \"#7201a8\"], [0.3333333333333333, \"#9c179e\"], [0.4444444444444444, \"#bd3786\"], [0.5555555555555556, \"#d8576b\"], [0.6666666666666666, \"#ed7953\"], [0.7777777777777778, \"#fb9f3a\"], [0.8888888888888888, \"#fdca26\"], [1.0, \"#f0f921\"]], \"type\": \"heatmap\"}], \"heatmapgl\": [{\"colorbar\": {\"outlinewidth\": 0, \"ticks\": \"\"}, \"colorscale\": [[0.0, \"#0d0887\"], [0.1111111111111111, \"#46039f\"], [0.2222222222222222, \"#7201a8\"], [0.3333333333333333, \"#9c179e\"], [0.4444444444444444, \"#bd3786\"], [0.5555555555555556, \"#d8576b\"], [0.6666666666666666, \"#ed7953\"], [0.7777777777777778, \"#fb9f3a\"], [0.8888888888888888, \"#fdca26\"], [1.0, \"#f0f921\"]], \"type\": \"heatmapgl\"}], \"histogram\": [{\"marker\": {\"colorbar\": {\"outlinewidth\": 0, \"ticks\": \"\"}}, \"type\": \"histogram\"}], \"histogram2d\": [{\"colorbar\": {\"outlinewidth\": 0, \"ticks\": \"\"}, \"colorscale\": [[0.0, \"#0d0887\"], [0.1111111111111111, \"#46039f\"], [0.2222222222222222, \"#7201a8\"], [0.3333333333333333, \"#9c179e\"], [0.4444444444444444, \"#bd3786\"], [0.5555555555555556, \"#d8576b\"], [0.6666666666666666, \"#ed7953\"], [0.7777777777777778, \"#fb9f3a\"], [0.8888888888888888, \"#fdca26\"], [1.0, \"#f0f921\"]], \"type\": \"histogram2d\"}], \"histogram2dcontour\": [{\"colorbar\": {\"outlinewidth\": 0, \"ticks\": \"\"}, \"colorscale\": [[0.0, \"#0d0887\"], [0.1111111111111111, \"#46039f\"], [0.2222222222222222, \"#7201a8\"], [0.3333333333333333, \"#9c179e\"], [0.4444444444444444, \"#bd3786\"], [0.5555555555555556, \"#d8576b\"], [0.6666666666666666, \"#ed7953\"], [0.7777777777777778, \"#fb9f3a\"], [0.8888888888888888, \"#fdca26\"], [1.0, \"#f0f921\"]], \"type\": \"histogram2dcontour\"}], \"mesh3d\": [{\"colorbar\": {\"outlinewidth\": 0, \"ticks\": \"\"}, \"type\": \"mesh3d\"}], \"parcoords\": [{\"line\": {\"colorbar\": {\"outlinewidth\": 0, \"ticks\": \"\"}}, \"type\": \"parcoords\"}], \"pie\": [{\"automargin\": true, \"type\": \"pie\"}], \"scatter\": [{\"marker\": {\"colorbar\": {\"outlinewidth\": 0, \"ticks\": \"\"}}, \"type\": \"scatter\"}], \"scatter3d\": [{\"line\": {\"colorbar\": {\"outlinewidth\": 0, \"ticks\": \"\"}}, \"marker\": {\"colorbar\": {\"outlinewidth\": 0, \"ticks\": \"\"}}, \"type\": \"scatter3d\"}], \"scattercarpet\": [{\"marker\": {\"colorbar\": {\"outlinewidth\": 0, \"ticks\": \"\"}}, \"type\": \"scattercarpet\"}], \"scattergeo\": [{\"marker\": {\"colorbar\": {\"outlinewidth\": 0, \"ticks\": \"\"}}, \"type\": \"scattergeo\"}], \"scattergl\": [{\"marker\": {\"colorbar\": {\"outlinewidth\": 0, \"ticks\": \"\"}}, \"type\": \"scattergl\"}], \"scattermapbox\": [{\"marker\": {\"colorbar\": {\"outlinewidth\": 0, \"ticks\": \"\"}}, \"type\": \"scattermapbox\"}], \"scatterpolar\": [{\"marker\": {\"colorbar\": {\"outlinewidth\": 0, \"ticks\": \"\"}}, \"type\": \"scatterpolar\"}], \"scatterpolargl\": [{\"marker\": {\"colorbar\": {\"outlinewidth\": 0, \"ticks\": \"\"}}, \"type\": \"scatterpolargl\"}], \"scatterternary\": [{\"marker\": {\"colorbar\": {\"outlinewidth\": 0, \"ticks\": \"\"}}, \"type\": \"scatterternary\"}], \"surface\": [{\"colorbar\": {\"outlinewidth\": 0, \"ticks\": \"\"}, \"colorscale\": [[0.0, \"#0d0887\"], [0.1111111111111111, \"#46039f\"], [0.2222222222222222, \"#7201a8\"], [0.3333333333333333, \"#9c179e\"], [0.4444444444444444, \"#bd3786\"], [0.5555555555555556, \"#d8576b\"], [0.6666666666666666, \"#ed7953\"], [0.7777777777777778, \"#fb9f3a\"], [0.8888888888888888, \"#fdca26\"], [1.0, \"#f0f921\"]], \"type\": \"surface\"}], \"table\": [{\"cells\": {\"fill\": {\"color\": \"#EBF0F8\"}, \"line\": {\"color\": \"white\"}}, \"header\": {\"fill\": {\"color\": \"#C8D4E3\"}, \"line\": {\"color\": \"white\"}}, \"type\": \"table\"}]}, \"layout\": {\"annotationdefaults\": {\"arrowcolor\": \"#2a3f5f\", \"arrowhead\": 0, \"arrowwidth\": 1}, \"autotypenumbers\": \"strict\", \"coloraxis\": {\"colorbar\": {\"outlinewidth\": 0, \"ticks\": \"\"}}, \"colorscale\": {\"diverging\": [[0, \"#8e0152\"], [0.1, \"#c51b7d\"], [0.2, \"#de77ae\"], [0.3, \"#f1b6da\"], [0.4, \"#fde0ef\"], [0.5, \"#f7f7f7\"], [0.6, \"#e6f5d0\"], [0.7, \"#b8e186\"], [0.8, \"#7fbc41\"], [0.9, \"#4d9221\"], [1, \"#276419\"]], \"sequential\": [[0.0, \"#0d0887\"], [0.1111111111111111, \"#46039f\"], [0.2222222222222222, \"#7201a8\"], [0.3333333333333333, \"#9c179e\"], [0.4444444444444444, \"#bd3786\"], [0.5555555555555556, \"#d8576b\"], [0.6666666666666666, \"#ed7953\"], [0.7777777777777778, \"#fb9f3a\"], [0.8888888888888888, \"#fdca26\"], [1.0, \"#f0f921\"]], \"sequentialminus\": [[0.0, \"#0d0887\"], [0.1111111111111111, \"#46039f\"], [0.2222222222222222, \"#7201a8\"], [0.3333333333333333, \"#9c179e\"], [0.4444444444444444, \"#bd3786\"], [0.5555555555555556, \"#d8576b\"], [0.6666666666666666, \"#ed7953\"], [0.7777777777777778, \"#fb9f3a\"], [0.8888888888888888, \"#fdca26\"], [1.0, \"#f0f921\"]]}, \"colorway\": [\"#636efa\", \"#EF553B\", \"#00cc96\", \"#ab63fa\", \"#FFA15A\", \"#19d3f3\", \"#FF6692\", \"#B6E880\", \"#FF97FF\", \"#FECB52\"], \"font\": {\"color\": \"#2a3f5f\"}, \"geo\": {\"bgcolor\": \"white\", \"lakecolor\": \"white\", \"landcolor\": \"#E5ECF6\", \"showlakes\": true, \"showland\": true, \"subunitcolor\": \"white\"}, \"hoverlabel\": {\"align\": \"left\"}, \"hovermode\": \"closest\", \"mapbox\": {\"style\": \"light\"}, \"paper_bgcolor\": \"white\", \"plot_bgcolor\": \"#E5ECF6\", \"polar\": {\"angularaxis\": {\"gridcolor\": \"white\", \"linecolor\": \"white\", \"ticks\": \"\"}, \"bgcolor\": \"#E5ECF6\", \"radialaxis\": {\"gridcolor\": \"white\", \"linecolor\": \"white\", \"ticks\": \"\"}}, \"scene\": {\"xaxis\": {\"backgroundcolor\": \"#E5ECF6\", \"gridcolor\": \"white\", \"gridwidth\": 2, \"linecolor\": \"white\", \"showbackground\": true, \"ticks\": \"\", \"zerolinecolor\": \"white\"}, \"yaxis\": {\"backgroundcolor\": \"#E5ECF6\", \"gridcolor\": \"white\", \"gridwidth\": 2, \"linecolor\": \"white\", \"showbackground\": true, \"ticks\": \"\", \"zerolinecolor\": \"white\"}, \"zaxis\": {\"backgroundcolor\": \"#E5ECF6\", \"gridcolor\": \"white\", \"gridwidth\": 2, \"linecolor\": \"white\", \"showbackground\": true, \"ticks\": \"\", \"zerolinecolor\": \"white\"}}, \"shapedefaults\": {\"line\": {\"color\": \"#2a3f5f\"}}, \"ternary\": {\"aaxis\": {\"gridcolor\": \"white\", \"linecolor\": \"white\", \"ticks\": \"\"}, \"baxis\": {\"gridcolor\": \"white\", \"linecolor\": \"white\", \"ticks\": \"\"}, \"bgcolor\": \"#E5ECF6\", \"caxis\": {\"gridcolor\": \"white\", \"linecolor\": \"white\", \"ticks\": \"\"}}, \"title\": {\"x\": 0.05}, \"xaxis\": {\"automargin\": true, \"gridcolor\": \"white\", \"linecolor\": \"white\", \"ticks\": \"\", \"title\": {\"standoff\": 15}, \"zerolinecolor\": \"white\", \"zerolinewidth\": 2}, \"yaxis\": {\"automargin\": true, \"gridcolor\": \"white\", \"linecolor\": \"white\", \"ticks\": \"\", \"title\": {\"standoff\": 15}, \"zerolinecolor\": \"white\", \"zerolinewidth\": 2}}}},                        {\"responsive\": true}                    ).then(function(){\n",
       "                            \n",
       "var gd = document.getElementById('bfa454d4-9255-47d1-9a60-f54c730cac0b');\n",
       "var x = new MutationObserver(function (mutations, observer) {{\n",
       "        var display = window.getComputedStyle(gd).display;\n",
       "        if (!display || display === 'none') {{\n",
       "            console.log([gd, 'removed!']);\n",
       "            Plotly.purge(gd);\n",
       "            observer.disconnect();\n",
       "        }}\n",
       "}});\n",
       "\n",
       "// Listen for the removal of the full notebook cells\n",
       "var notebookContainer = gd.closest('#notebook-container');\n",
       "if (notebookContainer) {{\n",
       "    x.observe(notebookContainer, {childList: true});\n",
       "}}\n",
       "\n",
       "// Listen for the clearing of the current output cell\n",
       "var outputEl = gd.closest('.output');\n",
       "if (outputEl) {{\n",
       "    x.observe(outputEl, {childList: true});\n",
       "}}\n",
       "\n",
       "                        })                };                });            </script>        </div>"
      ]
     },
     "metadata": {},
     "output_type": "display_data"
    }
   ],
   "source": [
    "import plotly.express as px\n",
    "\n",
    "fig=px.scatter_3d(new_data,x=\"Final_stadiums\",y=\"Final_locations\",z=\"Final_stadium_numbers\",color=\"Final_stadium_numbers\",size=\"Final_stadium_numbers\",opacity=0.7)\n",
    "\n",
    "fig.update_layout(margin=dict(l=0, r=0, b=0, t=0))\n",
    "fig.show()\n"
   ]
  },
  {
   "cell_type": "markdown",
   "metadata": {
    "papermill": {
     "duration": 0.031804,
     "end_time": "2021-02-26T13:27:10.839402",
     "exception": false,
     "start_time": "2021-02-26T13:27:10.807598",
     "status": "completed"
    },
    "tags": []
   },
   "source": [
    "<a id=\"6\"></a><br>\n",
    "## Conclusion"
   ]
  },
  {
   "cell_type": "markdown",
   "metadata": {
    "papermill": {
     "duration": 0.03014,
     "end_time": "2021-02-26T13:27:10.902700",
     "exception": false,
     "start_time": "2021-02-26T13:27:10.872560",
     "status": "completed"
    },
    "tags": []
   },
   "source": [
    "According to my observations, From this dataset I have learned that New England Patriots played more Spurebowls than other teams and win nearly 50% of games. Also, Tom Brady has the most MVP awards with 4 awards. Lastly, people in Loosiana, California and Florida had more chance to watch a Superbowl."
   ]
  },
  {
   "cell_type": "markdown",
   "metadata": {
    "papermill": {
     "duration": 0.030531,
     "end_time": "2021-02-26T13:27:10.965003",
     "exception": false,
     "start_time": "2021-02-26T13:27:10.934472",
     "status": "completed"
    },
    "tags": []
   },
   "source": [
    "[Press for going back to the Introduction](#7)"
   ]
  }
 ],
 "metadata": {
  "kernelspec": {
   "display_name": "Python 3",
   "language": "python",
   "name": "python3"
  },
  "language_info": {
   "codemirror_mode": {
    "name": "ipython",
    "version": 3
   },
   "file_extension": ".py",
   "mimetype": "text/x-python",
   "name": "python",
   "nbconvert_exporter": "python",
   "pygments_lexer": "ipython3",
   "version": "3.7.9"
  },
  "papermill": {
   "default_parameters": {},
   "duration": 13.559755,
   "end_time": "2021-02-26T13:27:11.706278",
   "environment_variables": {},
   "exception": null,
   "input_path": "__notebook__.ipynb",
   "output_path": "__notebook__.ipynb",
   "parameters": {},
   "start_time": "2021-02-26T13:26:58.146523",
   "version": "2.2.2"
  }
 },
 "nbformat": 4,
 "nbformat_minor": 4
}

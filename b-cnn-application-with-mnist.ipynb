{
 "cells": [
  {
   "cell_type": "markdown",
   "execution_count": null,
   "metadata": {
    "papermill": {
     "duration": 0.012091,
     "end_time": "2020-08-23T20:18:35.529903",
     "exception": false,
     "start_time": "2020-08-23T20:18:35.517812",
     "status": "completed"
    },
    "tags": []
   },
   "source": [
    "# Introduction\n",
    "In this kernelI tried to train my model and get the best accuracy as I can. I tried different ephocs and different activation styles, after that I ended up with this values below.\n",
    "\n",
    "1. [Loading Train and Test Data](#1)\n",
    "1. [Arranging Train Data](#2)\n",
    "1. [Traning Model](#3)\n",
    "1. [Fitting Model on Train Data](#4)\n",
    "1. [Arranging Test Data](#5)\n",
    "1. [Fitting Model on Test Data](#6)"
   ]
  },
  {
   "cell_type": "code",
   "execution_count": 1,
   "metadata": {
    "_cell_guid": "b1076dfc-b9ad-4769-8c92-a6c4dae69d19",
    "_uuid": "8f2839f25d086af736a60e9eeb907d3b93b6e0e5",
    "execution": {
     "iopub.execute_input": "2020-08-23T20:18:35.560700Z",
     "iopub.status.busy": "2020-08-23T20:18:35.559844Z",
     "iopub.status.idle": "2020-08-23T20:18:36.774604Z",
     "shell.execute_reply": "2020-08-23T20:18:36.773878Z"
    },
    "papermill": {
     "duration": 1.23392,
     "end_time": "2020-08-23T20:18:36.774745",
     "exception": false,
     "start_time": "2020-08-23T20:18:35.540825",
     "status": "completed"
    },
    "tags": []
   },
   "outputs": [
    {
     "name": "stdout",
     "output_type": "stream",
     "text": [
      "/kaggle/input/mnist-in-csv/mnist_train.csv\n",
      "/kaggle/input/mnist-in-csv/mnist_test.csv\n"
     ]
    }
   ],
   "source": [
    "# This Python 3 environment comes with many helpful analytics libraries installed\n",
    "# It is defined by the kaggle/python Docker image: https://github.com/kaggle/docker-python\n",
    "# For example, here's several helpful packages to load\n",
    "\n",
    "import numpy as np # linear algebra\n",
    "import pandas as pd # data processing, CSV file I/O (e.g. pd.read_csv)\n",
    "import seaborn as sns\n",
    "import matplotlib.pyplot as plt\n",
    "\n",
    "\n",
    "\n",
    "import warnings\n",
    "warnings.filterwarnings(\"ignore\")\n",
    "\n",
    "# Input data files are available in the read-only \"../input/\" directory\n",
    "# For example, running this (by clicking run or pressing Shift+Enter) will list all files under the input directory\n",
    "\n",
    "import os\n",
    "for dirname, _, filenames in os.walk('/kaggle/input'):\n",
    "    for filename in filenames:\n",
    "        print(os.path.join(dirname, filename))\n",
    "\n",
    "# You can write up to 5GB to the current directory (/kaggle/working/) that gets preserved as output when you create a version using \"Save & Run All\" \n",
    "# You can also write temporary files to /kaggle/temp/, but they won't be saved outside of the current session"
   ]
  },
  {
   "cell_type": "markdown",
   "execution_count": null,
   "metadata": {
    "papermill": {
     "duration": 0.010147,
     "end_time": "2020-08-23T20:18:36.795585",
     "exception": false,
     "start_time": "2020-08-23T20:18:36.785438",
     "status": "completed"
    },
    "tags": []
   },
   "source": [
    "<a id=\"1\"><br></a>\n",
    "## Loading Train and Test Data"
   ]
  },
  {
   "cell_type": "code",
   "execution_count": 2,
   "metadata": {
    "_cell_guid": "79c7e3d0-c299-4dcb-8224-4455121ee9b0",
    "_uuid": "d629ff2d2480ee46fbb7e2d37f6b5fab8052498a",
    "execution": {
     "iopub.execute_input": "2020-08-23T20:18:36.826302Z",
     "iopub.status.busy": "2020-08-23T20:18:36.825410Z",
     "iopub.status.idle": "2020-08-23T20:18:42.777163Z",
     "shell.execute_reply": "2020-08-23T20:18:42.777760Z"
    },
    "papermill": {
     "duration": 5.970243,
     "end_time": "2020-08-23T20:18:42.777922",
     "exception": false,
     "start_time": "2020-08-23T20:18:36.807679",
     "status": "completed"
    },
    "tags": []
   },
   "outputs": [
    {
     "data": {
      "text/html": [
       "<div>\n",
       "<style scoped>\n",
       "    .dataframe tbody tr th:only-of-type {\n",
       "        vertical-align: middle;\n",
       "    }\n",
       "\n",
       "    .dataframe tbody tr th {\n",
       "        vertical-align: top;\n",
       "    }\n",
       "\n",
       "    .dataframe thead th {\n",
       "        text-align: right;\n",
       "    }\n",
       "</style>\n",
       "<table border=\"1\" class=\"dataframe\">\n",
       "  <thead>\n",
       "    <tr style=\"text-align: right;\">\n",
       "      <th></th>\n",
       "      <th>label</th>\n",
       "      <th>1x1</th>\n",
       "      <th>1x2</th>\n",
       "      <th>1x3</th>\n",
       "      <th>1x4</th>\n",
       "      <th>1x5</th>\n",
       "      <th>1x6</th>\n",
       "      <th>1x7</th>\n",
       "      <th>1x8</th>\n",
       "      <th>1x9</th>\n",
       "      <th>...</th>\n",
       "      <th>28x19</th>\n",
       "      <th>28x20</th>\n",
       "      <th>28x21</th>\n",
       "      <th>28x22</th>\n",
       "      <th>28x23</th>\n",
       "      <th>28x24</th>\n",
       "      <th>28x25</th>\n",
       "      <th>28x26</th>\n",
       "      <th>28x27</th>\n",
       "      <th>28x28</th>\n",
       "    </tr>\n",
       "  </thead>\n",
       "  <tbody>\n",
       "    <tr>\n",
       "      <th>0</th>\n",
       "      <td>5</td>\n",
       "      <td>0</td>\n",
       "      <td>0</td>\n",
       "      <td>0</td>\n",
       "      <td>0</td>\n",
       "      <td>0</td>\n",
       "      <td>0</td>\n",
       "      <td>0</td>\n",
       "      <td>0</td>\n",
       "      <td>0</td>\n",
       "      <td>...</td>\n",
       "      <td>0</td>\n",
       "      <td>0</td>\n",
       "      <td>0</td>\n",
       "      <td>0</td>\n",
       "      <td>0</td>\n",
       "      <td>0</td>\n",
       "      <td>0</td>\n",
       "      <td>0</td>\n",
       "      <td>0</td>\n",
       "      <td>0</td>\n",
       "    </tr>\n",
       "    <tr>\n",
       "      <th>1</th>\n",
       "      <td>0</td>\n",
       "      <td>0</td>\n",
       "      <td>0</td>\n",
       "      <td>0</td>\n",
       "      <td>0</td>\n",
       "      <td>0</td>\n",
       "      <td>0</td>\n",
       "      <td>0</td>\n",
       "      <td>0</td>\n",
       "      <td>0</td>\n",
       "      <td>...</td>\n",
       "      <td>0</td>\n",
       "      <td>0</td>\n",
       "      <td>0</td>\n",
       "      <td>0</td>\n",
       "      <td>0</td>\n",
       "      <td>0</td>\n",
       "      <td>0</td>\n",
       "      <td>0</td>\n",
       "      <td>0</td>\n",
       "      <td>0</td>\n",
       "    </tr>\n",
       "    <tr>\n",
       "      <th>2</th>\n",
       "      <td>4</td>\n",
       "      <td>0</td>\n",
       "      <td>0</td>\n",
       "      <td>0</td>\n",
       "      <td>0</td>\n",
       "      <td>0</td>\n",
       "      <td>0</td>\n",
       "      <td>0</td>\n",
       "      <td>0</td>\n",
       "      <td>0</td>\n",
       "      <td>...</td>\n",
       "      <td>0</td>\n",
       "      <td>0</td>\n",
       "      <td>0</td>\n",
       "      <td>0</td>\n",
       "      <td>0</td>\n",
       "      <td>0</td>\n",
       "      <td>0</td>\n",
       "      <td>0</td>\n",
       "      <td>0</td>\n",
       "      <td>0</td>\n",
       "    </tr>\n",
       "    <tr>\n",
       "      <th>3</th>\n",
       "      <td>1</td>\n",
       "      <td>0</td>\n",
       "      <td>0</td>\n",
       "      <td>0</td>\n",
       "      <td>0</td>\n",
       "      <td>0</td>\n",
       "      <td>0</td>\n",
       "      <td>0</td>\n",
       "      <td>0</td>\n",
       "      <td>0</td>\n",
       "      <td>...</td>\n",
       "      <td>0</td>\n",
       "      <td>0</td>\n",
       "      <td>0</td>\n",
       "      <td>0</td>\n",
       "      <td>0</td>\n",
       "      <td>0</td>\n",
       "      <td>0</td>\n",
       "      <td>0</td>\n",
       "      <td>0</td>\n",
       "      <td>0</td>\n",
       "    </tr>\n",
       "    <tr>\n",
       "      <th>4</th>\n",
       "      <td>9</td>\n",
       "      <td>0</td>\n",
       "      <td>0</td>\n",
       "      <td>0</td>\n",
       "      <td>0</td>\n",
       "      <td>0</td>\n",
       "      <td>0</td>\n",
       "      <td>0</td>\n",
       "      <td>0</td>\n",
       "      <td>0</td>\n",
       "      <td>...</td>\n",
       "      <td>0</td>\n",
       "      <td>0</td>\n",
       "      <td>0</td>\n",
       "      <td>0</td>\n",
       "      <td>0</td>\n",
       "      <td>0</td>\n",
       "      <td>0</td>\n",
       "      <td>0</td>\n",
       "      <td>0</td>\n",
       "      <td>0</td>\n",
       "    </tr>\n",
       "  </tbody>\n",
       "</table>\n",
       "<p>5 rows × 785 columns</p>\n",
       "</div>"
      ],
      "text/plain": [
       "   label  1x1  1x2  1x3  1x4  1x5  1x6  1x7  1x8  1x9  ...  28x19  28x20  \\\n",
       "0      5    0    0    0    0    0    0    0    0    0  ...      0      0   \n",
       "1      0    0    0    0    0    0    0    0    0    0  ...      0      0   \n",
       "2      4    0    0    0    0    0    0    0    0    0  ...      0      0   \n",
       "3      1    0    0    0    0    0    0    0    0    0  ...      0      0   \n",
       "4      9    0    0    0    0    0    0    0    0    0  ...      0      0   \n",
       "\n",
       "   28x21  28x22  28x23  28x24  28x25  28x26  28x27  28x28  \n",
       "0      0      0      0      0      0      0      0      0  \n",
       "1      0      0      0      0      0      0      0      0  \n",
       "2      0      0      0      0      0      0      0      0  \n",
       "3      0      0      0      0      0      0      0      0  \n",
       "4      0      0      0      0      0      0      0      0  \n",
       "\n",
       "[5 rows x 785 columns]"
      ]
     },
     "execution_count": 2,
     "metadata": {},
     "output_type": "execute_result"
    }
   ],
   "source": [
    "train=pd.read_csv(\"/kaggle/input/mnist-in-csv/mnist_train.csv\")\n",
    "train.head()"
   ]
  },
  {
   "cell_type": "markdown",
   "execution_count": null,
   "metadata": {
    "papermill": {
     "duration": 0.010524,
     "end_time": "2020-08-23T20:18:42.799682",
     "exception": false,
     "start_time": "2020-08-23T20:18:42.789158",
     "status": "completed"
    },
    "tags": []
   },
   "source": [
    "As we can see from the table above, we can easily say that every photo of digits made from 28x28 pixels and the first column of the data is represents the digit."
   ]
  },
  {
   "cell_type": "code",
   "execution_count": 3,
   "metadata": {
    "execution": {
     "iopub.execute_input": "2020-08-23T20:18:42.828415Z",
     "iopub.status.busy": "2020-08-23T20:18:42.827576Z",
     "iopub.status.idle": "2020-08-23T20:18:43.667595Z",
     "shell.execute_reply": "2020-08-23T20:18:43.668240Z"
    },
    "papermill": {
     "duration": 0.857529,
     "end_time": "2020-08-23T20:18:43.668413",
     "exception": false,
     "start_time": "2020-08-23T20:18:42.810884",
     "status": "completed"
    },
    "tags": []
   },
   "outputs": [
    {
     "data": {
      "text/html": [
       "<div>\n",
       "<style scoped>\n",
       "    .dataframe tbody tr th:only-of-type {\n",
       "        vertical-align: middle;\n",
       "    }\n",
       "\n",
       "    .dataframe tbody tr th {\n",
       "        vertical-align: top;\n",
       "    }\n",
       "\n",
       "    .dataframe thead th {\n",
       "        text-align: right;\n",
       "    }\n",
       "</style>\n",
       "<table border=\"1\" class=\"dataframe\">\n",
       "  <thead>\n",
       "    <tr style=\"text-align: right;\">\n",
       "      <th></th>\n",
       "      <th>label</th>\n",
       "      <th>1x1</th>\n",
       "      <th>1x2</th>\n",
       "      <th>1x3</th>\n",
       "      <th>1x4</th>\n",
       "      <th>1x5</th>\n",
       "      <th>1x6</th>\n",
       "      <th>1x7</th>\n",
       "      <th>1x8</th>\n",
       "      <th>1x9</th>\n",
       "      <th>...</th>\n",
       "      <th>28x19</th>\n",
       "      <th>28x20</th>\n",
       "      <th>28x21</th>\n",
       "      <th>28x22</th>\n",
       "      <th>28x23</th>\n",
       "      <th>28x24</th>\n",
       "      <th>28x25</th>\n",
       "      <th>28x26</th>\n",
       "      <th>28x27</th>\n",
       "      <th>28x28</th>\n",
       "    </tr>\n",
       "  </thead>\n",
       "  <tbody>\n",
       "    <tr>\n",
       "      <th>0</th>\n",
       "      <td>7</td>\n",
       "      <td>0</td>\n",
       "      <td>0</td>\n",
       "      <td>0</td>\n",
       "      <td>0</td>\n",
       "      <td>0</td>\n",
       "      <td>0</td>\n",
       "      <td>0</td>\n",
       "      <td>0</td>\n",
       "      <td>0</td>\n",
       "      <td>...</td>\n",
       "      <td>0</td>\n",
       "      <td>0</td>\n",
       "      <td>0</td>\n",
       "      <td>0</td>\n",
       "      <td>0</td>\n",
       "      <td>0</td>\n",
       "      <td>0</td>\n",
       "      <td>0</td>\n",
       "      <td>0</td>\n",
       "      <td>0</td>\n",
       "    </tr>\n",
       "    <tr>\n",
       "      <th>1</th>\n",
       "      <td>2</td>\n",
       "      <td>0</td>\n",
       "      <td>0</td>\n",
       "      <td>0</td>\n",
       "      <td>0</td>\n",
       "      <td>0</td>\n",
       "      <td>0</td>\n",
       "      <td>0</td>\n",
       "      <td>0</td>\n",
       "      <td>0</td>\n",
       "      <td>...</td>\n",
       "      <td>0</td>\n",
       "      <td>0</td>\n",
       "      <td>0</td>\n",
       "      <td>0</td>\n",
       "      <td>0</td>\n",
       "      <td>0</td>\n",
       "      <td>0</td>\n",
       "      <td>0</td>\n",
       "      <td>0</td>\n",
       "      <td>0</td>\n",
       "    </tr>\n",
       "    <tr>\n",
       "      <th>2</th>\n",
       "      <td>1</td>\n",
       "      <td>0</td>\n",
       "      <td>0</td>\n",
       "      <td>0</td>\n",
       "      <td>0</td>\n",
       "      <td>0</td>\n",
       "      <td>0</td>\n",
       "      <td>0</td>\n",
       "      <td>0</td>\n",
       "      <td>0</td>\n",
       "      <td>...</td>\n",
       "      <td>0</td>\n",
       "      <td>0</td>\n",
       "      <td>0</td>\n",
       "      <td>0</td>\n",
       "      <td>0</td>\n",
       "      <td>0</td>\n",
       "      <td>0</td>\n",
       "      <td>0</td>\n",
       "      <td>0</td>\n",
       "      <td>0</td>\n",
       "    </tr>\n",
       "    <tr>\n",
       "      <th>3</th>\n",
       "      <td>0</td>\n",
       "      <td>0</td>\n",
       "      <td>0</td>\n",
       "      <td>0</td>\n",
       "      <td>0</td>\n",
       "      <td>0</td>\n",
       "      <td>0</td>\n",
       "      <td>0</td>\n",
       "      <td>0</td>\n",
       "      <td>0</td>\n",
       "      <td>...</td>\n",
       "      <td>0</td>\n",
       "      <td>0</td>\n",
       "      <td>0</td>\n",
       "      <td>0</td>\n",
       "      <td>0</td>\n",
       "      <td>0</td>\n",
       "      <td>0</td>\n",
       "      <td>0</td>\n",
       "      <td>0</td>\n",
       "      <td>0</td>\n",
       "    </tr>\n",
       "    <tr>\n",
       "      <th>4</th>\n",
       "      <td>4</td>\n",
       "      <td>0</td>\n",
       "      <td>0</td>\n",
       "      <td>0</td>\n",
       "      <td>0</td>\n",
       "      <td>0</td>\n",
       "      <td>0</td>\n",
       "      <td>0</td>\n",
       "      <td>0</td>\n",
       "      <td>0</td>\n",
       "      <td>...</td>\n",
       "      <td>0</td>\n",
       "      <td>0</td>\n",
       "      <td>0</td>\n",
       "      <td>0</td>\n",
       "      <td>0</td>\n",
       "      <td>0</td>\n",
       "      <td>0</td>\n",
       "      <td>0</td>\n",
       "      <td>0</td>\n",
       "      <td>0</td>\n",
       "    </tr>\n",
       "  </tbody>\n",
       "</table>\n",
       "<p>5 rows × 785 columns</p>\n",
       "</div>"
      ],
      "text/plain": [
       "   label  1x1  1x2  1x3  1x4  1x5  1x6  1x7  1x8  1x9  ...  28x19  28x20  \\\n",
       "0      7    0    0    0    0    0    0    0    0    0  ...      0      0   \n",
       "1      2    0    0    0    0    0    0    0    0    0  ...      0      0   \n",
       "2      1    0    0    0    0    0    0    0    0    0  ...      0      0   \n",
       "3      0    0    0    0    0    0    0    0    0    0  ...      0      0   \n",
       "4      4    0    0    0    0    0    0    0    0    0  ...      0      0   \n",
       "\n",
       "   28x21  28x22  28x23  28x24  28x25  28x26  28x27  28x28  \n",
       "0      0      0      0      0      0      0      0      0  \n",
       "1      0      0      0      0      0      0      0      0  \n",
       "2      0      0      0      0      0      0      0      0  \n",
       "3      0      0      0      0      0      0      0      0  \n",
       "4      0      0      0      0      0      0      0      0  \n",
       "\n",
       "[5 rows x 785 columns]"
      ]
     },
     "execution_count": 3,
     "metadata": {},
     "output_type": "execute_result"
    }
   ],
   "source": [
    "test=pd.read_csv(\"/kaggle/input/mnist-in-csv/mnist_test.csv\")\n",
    "\n",
    "test.head()"
   ]
  },
  {
   "cell_type": "markdown",
   "execution_count": null,
   "metadata": {
    "papermill": {
     "duration": 0.010836,
     "end_time": "2020-08-23T20:18:43.690569",
     "exception": false,
     "start_time": "2020-08-23T20:18:43.679733",
     "status": "completed"
    },
    "tags": []
   },
   "source": [
    "According to our expectations we have same condition like in the train data frame."
   ]
  },
  {
   "cell_type": "markdown",
   "execution_count": null,
   "metadata": {
    "papermill": {
     "duration": 0.010802,
     "end_time": "2020-08-23T20:18:43.712566",
     "exception": false,
     "start_time": "2020-08-23T20:18:43.701764",
     "status": "completed"
    },
    "tags": []
   },
   "source": [
    "<a id=\"2\"><br></a>\n",
    "## Arranging Train Data"
   ]
  },
  {
   "cell_type": "markdown",
   "execution_count": null,
   "metadata": {
    "papermill": {
     "duration": 0.010492,
     "end_time": "2020-08-23T20:18:43.734040",
     "exception": false,
     "start_time": "2020-08-23T20:18:43.723548",
     "status": "completed"
    },
    "tags": []
   },
   "source": [
    "Now for seeing a sample inside the train we are going to make one of the pics as a matrix. After that reshape it and print it."
   ]
  },
  {
   "cell_type": "code",
   "execution_count": 4,
   "metadata": {
    "execution": {
     "iopub.execute_input": "2020-08-23T20:18:43.765519Z",
     "iopub.status.busy": "2020-08-23T20:18:43.764685Z",
     "iopub.status.idle": "2020-08-23T20:18:43.932562Z",
     "shell.execute_reply": "2020-08-23T20:18:43.931864Z"
    },
    "papermill": {
     "duration": 0.187667,
     "end_time": "2020-08-23T20:18:43.932712",
     "exception": false,
     "start_time": "2020-08-23T20:18:43.745045",
     "status": "completed"
    },
    "tags": []
   },
   "outputs": [
    {
     "name": "stdout",
     "output_type": "stream",
     "text": [
      "7\n"
     ]
    },
    {
     "data": {
      "image/png": "[encoded data removed]",
      "text/plain": [
       "<Figure size 432x288 with 1 Axes>"
      ]
     },
     "metadata": {
      "needs_background": "light"
     },
     "output_type": "display_data"
    }
   ],
   "source": [
    "print(train.iloc[15][0]) #this is for seeing which number we are picturing.\n",
    "img=train.iloc[15][1:].to_numpy() #you can also use as_matrix(), but the last time that I wanted to use it I've got a problem. Because of that, I used to_numpy(). \n",
    "                                  #I didn't get rid of the label part yet. Fot just using pixels we started from the 2nd([1]) element of one column.\n",
    "img=np.reshape(img,(28,28))\n",
    "plt.imshow(img,cmap=\"gray\")\n",
    "plt.axis(\"off\")\n",
    "plt.show()"
   ]
  },
  {
   "cell_type": "markdown",
   "execution_count": null,
   "metadata": {
    "papermill": {
     "duration": 0.012086,
     "end_time": "2020-08-23T20:18:43.957548",
     "exception": false,
     "start_time": "2020-08-23T20:18:43.945462",
     "status": "completed"
    },
    "tags": []
   },
   "source": [
    "Now we are going to seperate our labels from pixels."
   ]
  },
  {
   "cell_type": "code",
   "execution_count": 5,
   "metadata": {
    "execution": {
     "iopub.execute_input": "2020-08-23T20:18:44.291893Z",
     "iopub.status.busy": "2020-08-23T20:18:44.291034Z",
     "iopub.status.idle": "2020-08-23T20:18:44.297810Z",
     "shell.execute_reply": "2020-08-23T20:18:44.297022Z"
    },
    "papermill": {
     "duration": 0.327925,
     "end_time": "2020-08-23T20:18:44.297945",
     "exception": false,
     "start_time": "2020-08-23T20:18:43.970020",
     "status": "completed"
    },
    "tags": []
   },
   "outputs": [
    {
     "data": {
      "text/html": [
       "<div>\n",
       "<style scoped>\n",
       "    .dataframe tbody tr th:only-of-type {\n",
       "        vertical-align: middle;\n",
       "    }\n",
       "\n",
       "    .dataframe tbody tr th {\n",
       "        vertical-align: top;\n",
       "    }\n",
       "\n",
       "    .dataframe thead th {\n",
       "        text-align: right;\n",
       "    }\n",
       "</style>\n",
       "<table border=\"1\" class=\"dataframe\">\n",
       "  <thead>\n",
       "    <tr style=\"text-align: right;\">\n",
       "      <th></th>\n",
       "      <th>1x1</th>\n",
       "      <th>1x2</th>\n",
       "      <th>1x3</th>\n",
       "      <th>1x4</th>\n",
       "      <th>1x5</th>\n",
       "      <th>1x6</th>\n",
       "      <th>1x7</th>\n",
       "      <th>1x8</th>\n",
       "      <th>1x9</th>\n",
       "      <th>1x10</th>\n",
       "      <th>...</th>\n",
       "      <th>28x19</th>\n",
       "      <th>28x20</th>\n",
       "      <th>28x21</th>\n",
       "      <th>28x22</th>\n",
       "      <th>28x23</th>\n",
       "      <th>28x24</th>\n",
       "      <th>28x25</th>\n",
       "      <th>28x26</th>\n",
       "      <th>28x27</th>\n",
       "      <th>28x28</th>\n",
       "    </tr>\n",
       "  </thead>\n",
       "  <tbody>\n",
       "    <tr>\n",
       "      <th>0</th>\n",
       "      <td>0</td>\n",
       "      <td>0</td>\n",
       "      <td>0</td>\n",
       "      <td>0</td>\n",
       "      <td>0</td>\n",
       "      <td>0</td>\n",
       "      <td>0</td>\n",
       "      <td>0</td>\n",
       "      <td>0</td>\n",
       "      <td>0</td>\n",
       "      <td>...</td>\n",
       "      <td>0</td>\n",
       "      <td>0</td>\n",
       "      <td>0</td>\n",
       "      <td>0</td>\n",
       "      <td>0</td>\n",
       "      <td>0</td>\n",
       "      <td>0</td>\n",
       "      <td>0</td>\n",
       "      <td>0</td>\n",
       "      <td>0</td>\n",
       "    </tr>\n",
       "    <tr>\n",
       "      <th>1</th>\n",
       "      <td>0</td>\n",
       "      <td>0</td>\n",
       "      <td>0</td>\n",
       "      <td>0</td>\n",
       "      <td>0</td>\n",
       "      <td>0</td>\n",
       "      <td>0</td>\n",
       "      <td>0</td>\n",
       "      <td>0</td>\n",
       "      <td>0</td>\n",
       "      <td>...</td>\n",
       "      <td>0</td>\n",
       "      <td>0</td>\n",
       "      <td>0</td>\n",
       "      <td>0</td>\n",
       "      <td>0</td>\n",
       "      <td>0</td>\n",
       "      <td>0</td>\n",
       "      <td>0</td>\n",
       "      <td>0</td>\n",
       "      <td>0</td>\n",
       "    </tr>\n",
       "    <tr>\n",
       "      <th>2</th>\n",
       "      <td>0</td>\n",
       "      <td>0</td>\n",
       "      <td>0</td>\n",
       "      <td>0</td>\n",
       "      <td>0</td>\n",
       "      <td>0</td>\n",
       "      <td>0</td>\n",
       "      <td>0</td>\n",
       "      <td>0</td>\n",
       "      <td>0</td>\n",
       "      <td>...</td>\n",
       "      <td>0</td>\n",
       "      <td>0</td>\n",
       "      <td>0</td>\n",
       "      <td>0</td>\n",
       "      <td>0</td>\n",
       "      <td>0</td>\n",
       "      <td>0</td>\n",
       "      <td>0</td>\n",
       "      <td>0</td>\n",
       "      <td>0</td>\n",
       "    </tr>\n",
       "    <tr>\n",
       "      <th>3</th>\n",
       "      <td>0</td>\n",
       "      <td>0</td>\n",
       "      <td>0</td>\n",
       "      <td>0</td>\n",
       "      <td>0</td>\n",
       "      <td>0</td>\n",
       "      <td>0</td>\n",
       "      <td>0</td>\n",
       "      <td>0</td>\n",
       "      <td>0</td>\n",
       "      <td>...</td>\n",
       "      <td>0</td>\n",
       "      <td>0</td>\n",
       "      <td>0</td>\n",
       "      <td>0</td>\n",
       "      <td>0</td>\n",
       "      <td>0</td>\n",
       "      <td>0</td>\n",
       "      <td>0</td>\n",
       "      <td>0</td>\n",
       "      <td>0</td>\n",
       "    </tr>\n",
       "    <tr>\n",
       "      <th>4</th>\n",
       "      <td>0</td>\n",
       "      <td>0</td>\n",
       "      <td>0</td>\n",
       "      <td>0</td>\n",
       "      <td>0</td>\n",
       "      <td>0</td>\n",
       "      <td>0</td>\n",
       "      <td>0</td>\n",
       "      <td>0</td>\n",
       "      <td>0</td>\n",
       "      <td>...</td>\n",
       "      <td>0</td>\n",
       "      <td>0</td>\n",
       "      <td>0</td>\n",
       "      <td>0</td>\n",
       "      <td>0</td>\n",
       "      <td>0</td>\n",
       "      <td>0</td>\n",
       "      <td>0</td>\n",
       "      <td>0</td>\n",
       "      <td>0</td>\n",
       "    </tr>\n",
       "  </tbody>\n",
       "</table>\n",
       "<p>5 rows × 784 columns</p>\n",
       "</div>"
      ],
      "text/plain": [
       "   1x1  1x2  1x3  1x4  1x5  1x6  1x7  1x8  1x9  1x10  ...  28x19  28x20  \\\n",
       "0    0    0    0    0    0    0    0    0    0     0  ...      0      0   \n",
       "1    0    0    0    0    0    0    0    0    0     0  ...      0      0   \n",
       "2    0    0    0    0    0    0    0    0    0     0  ...      0      0   \n",
       "3    0    0    0    0    0    0    0    0    0     0  ...      0      0   \n",
       "4    0    0    0    0    0    0    0    0    0     0  ...      0      0   \n",
       "\n",
       "   28x21  28x22  28x23  28x24  28x25  28x26  28x27  28x28  \n",
       "0      0      0      0      0      0      0      0      0  \n",
       "1      0      0      0      0      0      0      0      0  \n",
       "2      0      0      0      0      0      0      0      0  \n",
       "3      0      0      0      0      0      0      0      0  \n",
       "4      0      0      0      0      0      0      0      0  \n",
       "\n",
       "[5 rows x 784 columns]"
      ]
     },
     "execution_count": 5,
     "metadata": {},
     "output_type": "execute_result"
    }
   ],
   "source": [
    "X_train=train.drop(\"label\",axis=1)\n",
    "X_train.head()"
   ]
  },
  {
   "cell_type": "code",
   "execution_count": 6,
   "metadata": {
    "execution": {
     "iopub.execute_input": "2020-08-23T20:18:44.329727Z",
     "iopub.status.busy": "2020-08-23T20:18:44.328925Z",
     "iopub.status.idle": "2020-08-23T20:18:44.333576Z",
     "shell.execute_reply": "2020-08-23T20:18:44.332865Z"
    },
    "papermill": {
     "duration": 0.023521,
     "end_time": "2020-08-23T20:18:44.333705",
     "exception": false,
     "start_time": "2020-08-23T20:18:44.310184",
     "status": "completed"
    },
    "tags": []
   },
   "outputs": [
    {
     "data": {
      "text/plain": [
       "0    5\n",
       "1    0\n",
       "2    4\n",
       "3    1\n",
       "4    9\n",
       "Name: label, dtype: int64"
      ]
     },
     "execution_count": 6,
     "metadata": {},
     "output_type": "execute_result"
    }
   ],
   "source": [
    "Y_train=train.label\n",
    "Y_train.head()"
   ]
  },
  {
   "cell_type": "markdown",
   "execution_count": null,
   "metadata": {
    "papermill": {
     "duration": 0.012179,
     "end_time": "2020-08-23T20:18:44.357839",
     "exception": false,
     "start_time": "2020-08-23T20:18:44.345660",
     "status": "completed"
    },
    "tags": []
   },
   "source": [
    "Now we can easily see how many samples do we have from each number."
   ]
  },
  {
   "cell_type": "code",
   "execution_count": 7,
   "metadata": {
    "execution": {
     "iopub.execute_input": "2020-08-23T20:18:44.391788Z",
     "iopub.status.busy": "2020-08-23T20:18:44.390939Z",
     "iopub.status.idle": "2020-08-23T20:18:44.648135Z",
     "shell.execute_reply": "2020-08-23T20:18:44.647488Z"
    },
    "papermill": {
     "duration": 0.27844,
     "end_time": "2020-08-23T20:18:44.648280",
     "exception": false,
     "start_time": "2020-08-23T20:18:44.369840",
     "status": "completed"
    },
    "tags": []
   },
   "outputs": [
    {
     "data": {
      "image/png": "[encoded data removed]",
      "text/plain": [
       "<Figure size 1080x576 with 1 Axes>"
      ]
     },
     "metadata": {
      "needs_background": "light"
     },
     "output_type": "display_data"
    }
   ],
   "source": [
    "plt.figure(figsize=(15,8))\n",
    "sns.countplot(Y_train,palette=\"rocket\")\n",
    "plt.title(\"Count of Numbers\")\n",
    "plt.show()\n"
   ]
  },
  {
   "cell_type": "markdown",
   "execution_count": null,
   "metadata": {
    "papermill": {
     "duration": 0.012029,
     "end_time": "2020-08-23T20:18:44.672868",
     "exception": false,
     "start_time": "2020-08-23T20:18:44.660839",
     "status": "completed"
    },
    "tags": []
   },
   "source": [
    "Now we are going to initialize our pixel values"
   ]
  },
  {
   "cell_type": "code",
   "execution_count": 8,
   "metadata": {
    "execution": {
     "iopub.execute_input": "2020-08-23T20:18:44.704071Z",
     "iopub.status.busy": "2020-08-23T20:18:44.703268Z",
     "iopub.status.idle": "2020-08-23T20:18:44.837900Z",
     "shell.execute_reply": "2020-08-23T20:18:44.837208Z"
    },
    "papermill": {
     "duration": 0.152659,
     "end_time": "2020-08-23T20:18:44.838043",
     "exception": false,
     "start_time": "2020-08-23T20:18:44.685384",
     "status": "completed"
    },
    "tags": []
   },
   "outputs": [
    {
     "data": {
      "text/plain": [
       "(60000, 784)"
      ]
     },
     "execution_count": 8,
     "metadata": {},
     "output_type": "execute_result"
    }
   ],
   "source": [
    "X_train=X_train/255.0\n",
    "X_train.shape"
   ]
  },
  {
   "cell_type": "code",
   "execution_count": 9,
   "metadata": {
    "execution": {
     "iopub.execute_input": "2020-08-23T20:18:44.869200Z",
     "iopub.status.busy": "2020-08-23T20:18:44.868272Z",
     "iopub.status.idle": "2020-08-23T20:18:44.873575Z",
     "shell.execute_reply": "2020-08-23T20:18:44.872868Z"
    },
    "papermill": {
     "duration": 0.023119,
     "end_time": "2020-08-23T20:18:44.873709",
     "exception": false,
     "start_time": "2020-08-23T20:18:44.850590",
     "status": "completed"
    },
    "tags": []
   },
   "outputs": [
    {
     "data": {
      "text/plain": [
       "(60000,)"
      ]
     },
     "execution_count": 9,
     "metadata": {},
     "output_type": "execute_result"
    }
   ],
   "source": [
    "Y_train.shape"
   ]
  },
  {
   "cell_type": "markdown",
   "execution_count": null,
   "metadata": {
    "papermill": {
     "duration": 0.012338,
     "end_time": "2020-08-23T20:18:44.898843",
     "exception": false,
     "start_time": "2020-08-23T20:18:44.886505",
     "status": "completed"
    },
    "tags": []
   },
   "source": [
    "For making our train frames work with keras, we need to reshape them."
   ]
  },
  {
   "cell_type": "code",
   "execution_count": 10,
   "metadata": {
    "execution": {
     "iopub.execute_input": "2020-08-23T20:18:44.931905Z",
     "iopub.status.busy": "2020-08-23T20:18:44.930941Z",
     "iopub.status.idle": "2020-08-23T20:18:44.935696Z",
     "shell.execute_reply": "2020-08-23T20:18:44.935036Z"
    },
    "papermill": {
     "duration": 0.02429,
     "end_time": "2020-08-23T20:18:44.935837",
     "exception": false,
     "start_time": "2020-08-23T20:18:44.911547",
     "status": "completed"
    },
    "tags": []
   },
   "outputs": [
    {
     "data": {
      "text/plain": [
       "(60000, 28, 28, 1)"
      ]
     },
     "execution_count": 10,
     "metadata": {},
     "output_type": "execute_result"
    }
   ],
   "source": [
    "X_train=X_train.values.reshape(-1,28,28,1)\n",
    "X_train.shape"
   ]
  },
  {
   "cell_type": "code",
   "execution_count": 11,
   "metadata": {
    "execution": {
     "iopub.execute_input": "2020-08-23T20:18:44.969036Z",
     "iopub.status.busy": "2020-08-23T20:18:44.968275Z",
     "iopub.status.idle": "2020-08-23T20:18:51.998581Z",
     "shell.execute_reply": "2020-08-23T20:18:51.997809Z"
    },
    "papermill": {
     "duration": 7.049292,
     "end_time": "2020-08-23T20:18:51.998719",
     "exception": false,
     "start_time": "2020-08-23T20:18:44.949427",
     "status": "completed"
    },
    "tags": []
   },
   "outputs": [
    {
     "data": {
      "text/plain": [
       "(60000, 10)"
      ]
     },
     "execution_count": 11,
     "metadata": {},
     "output_type": "execute_result"
    }
   ],
   "source": [
    "from keras.utils.np_utils import to_categorical\n",
    "Y_train=to_categorical(Y_train,num_classes=10)\n",
    "Y_train.shape"
   ]
  },
  {
   "cell_type": "markdown",
   "execution_count": null,
   "metadata": {
    "papermill": {
     "duration": 0.013047,
     "end_time": "2020-08-23T20:18:52.025217",
     "exception": false,
     "start_time": "2020-08-23T20:18:52.012170",
     "status": "completed"
    },
    "tags": []
   },
   "source": [
    "After reshaping train data frames, now we can seperate them as train and validation."
   ]
  },
  {
   "cell_type": "code",
   "execution_count": 12,
   "metadata": {
    "execution": {
     "iopub.execute_input": "2020-08-23T20:18:52.061810Z",
     "iopub.status.busy": "2020-08-23T20:18:52.060803Z",
     "iopub.status.idle": "2020-08-23T20:18:52.844469Z",
     "shell.execute_reply": "2020-08-23T20:18:52.843786Z"
    },
    "papermill": {
     "duration": 0.806128,
     "end_time": "2020-08-23T20:18:52.844604",
     "exception": false,
     "start_time": "2020-08-23T20:18:52.038476",
     "status": "completed"
    },
    "tags": []
   },
   "outputs": [
    {
     "name": "stdout",
     "output_type": "stream",
     "text": [
      "x train shape:  (51000, 28, 28, 1)\n",
      "x val shape:  (9000, 28, 28, 1)\n",
      "y train shape:  (51000, 10)\n",
      "y val shape:  (9000, 10)\n"
     ]
    }
   ],
   "source": [
    "from sklearn.model_selection import train_test_split\n",
    "x_train,x_val,y_train,y_val=train_test_split(X_train,Y_train,test_size=0.15,random_state=42)\n",
    "\n",
    "print(\"x train shape: \",x_train.shape)\n",
    "print(\"x val shape: \",x_val.shape)\n",
    "print(\"y train shape: \",y_train.shape)\n",
    "print(\"y val shape: \",y_val.shape)"
   ]
  },
  {
   "cell_type": "markdown",
   "execution_count": null,
   "metadata": {
    "papermill": {
     "duration": 0.01287,
     "end_time": "2020-08-23T20:18:52.870691",
     "exception": false,
     "start_time": "2020-08-23T20:18:52.857821",
     "status": "completed"
    },
    "tags": []
   },
   "source": [
    "From now on we are starting to train model."
   ]
  },
  {
   "cell_type": "markdown",
   "execution_count": null,
   "metadata": {
    "papermill": {
     "duration": 0.012873,
     "end_time": "2020-08-23T20:18:52.896932",
     "exception": false,
     "start_time": "2020-08-23T20:18:52.884059",
     "status": "completed"
    },
    "tags": []
   },
   "source": [
    "<a id=\"3\"><br></a>\n",
    "## Training Model"
   ]
  },
  {
   "cell_type": "code",
   "execution_count": 13,
   "metadata": {
    "execution": {
     "iopub.execute_input": "2020-08-23T20:18:52.932490Z",
     "iopub.status.busy": "2020-08-23T20:18:52.931425Z",
     "iopub.status.idle": "2020-08-23T20:18:52.936177Z",
     "shell.execute_reply": "2020-08-23T20:18:52.935387Z"
    },
    "papermill": {
     "duration": 0.025902,
     "end_time": "2020-08-23T20:18:52.936313",
     "exception": false,
     "start_time": "2020-08-23T20:18:52.910411",
     "status": "completed"
    },
    "tags": []
   },
   "outputs": [],
   "source": [
    "from sklearn.metrics import confusion_matrix\n",
    "import itertools\n",
    "\n",
    "from keras.utils.np_utils import to_categorical\n",
    "from keras.models import Sequential\n",
    "from keras.layers import Dense, Dropout, Flatten, Conv2D, MaxPooling2D,Activation\n",
    "from keras.optimizers import RMSprop, Adam\n",
    "from keras.preprocessing.image import ImageDataGenerator\n",
    "from keras.callbacks import ReduceLROnPlateau"
   ]
  },
  {
   "cell_type": "code",
   "execution_count": 14,
   "metadata": {
    "execution": {
     "iopub.execute_input": "2020-08-23T20:18:52.977953Z",
     "iopub.status.busy": "2020-08-23T20:18:52.977069Z",
     "iopub.status.idle": "2020-08-23T20:18:53.236162Z",
     "shell.execute_reply": "2020-08-23T20:18:53.235319Z"
    },
    "papermill": {
     "duration": 0.28661,
     "end_time": "2020-08-23T20:18:53.236308",
     "exception": false,
     "start_time": "2020-08-23T20:18:52.949698",
     "status": "completed"
    },
    "tags": []
   },
   "outputs": [],
   "source": [
    "model=Sequential()\n",
    "model.add(Conv2D(32,(3,3),input_shape=(28,28,1)))\n",
    "model.add(Activation(\"tanh\"))\n",
    "model.add(MaxPooling2D(pool_size=(2,2),strides=(2,2)))\n",
    "model.add(Dropout(0.25))\n",
    "\n",
    "model.add(Conv2D(32,(3,3)))\n",
    "model.add(Activation(\"tanh\"))\n",
    "model.add(MaxPooling2D(pool_size=(2,2),strides=(2,2)))\n",
    "model.add(Dropout(0.25))\n",
    "\n",
    "model.add(Conv2D(64,(3,3)))\n",
    "model.add(Activation(\"tanh\"))\n",
    "model.add(MaxPooling2D(pool_size=(2,2),strides=(2,2)))\n",
    "model.add(Dropout(0.25))\n",
    "\n",
    "model.add(Flatten())\n",
    "model.add(Dense(256,activation=\"tanh\"))\n",
    "model.add(Dropout(0.5))\n",
    "model.add(Dense(10,activation=\"softmax\"))"
   ]
  },
  {
   "cell_type": "code",
   "execution_count": 15,
   "metadata": {
    "execution": {
     "iopub.execute_input": "2020-08-23T20:18:53.278617Z",
     "iopub.status.busy": "2020-08-23T20:18:53.277471Z",
     "iopub.status.idle": "2020-08-23T20:18:53.285122Z",
     "shell.execute_reply": "2020-08-23T20:18:53.284388Z"
    },
    "papermill": {
     "duration": 0.035145,
     "end_time": "2020-08-23T20:18:53.285257",
     "exception": false,
     "start_time": "2020-08-23T20:18:53.250112",
     "status": "completed"
    },
    "tags": []
   },
   "outputs": [],
   "source": [
    "model.compile(loss=\"categorical_crossentropy\",optimizer=\"rmsprop\",metrics=[\"accuracy\"])"
   ]
  },
  {
   "cell_type": "code",
   "execution_count": 16,
   "metadata": {
    "execution": {
     "iopub.execute_input": "2020-08-23T20:18:53.320446Z",
     "iopub.status.busy": "2020-08-23T20:18:53.319170Z",
     "iopub.status.idle": "2020-08-23T20:18:53.536244Z",
     "shell.execute_reply": "2020-08-23T20:18:53.536829Z"
    },
    "papermill": {
     "duration": 0.237522,
     "end_time": "2020-08-23T20:18:53.537009",
     "exception": false,
     "start_time": "2020-08-23T20:18:53.299487",
     "status": "completed"
    },
    "tags": []
   },
   "outputs": [],
   "source": [
    "datagen=ImageDataGenerator(rotation_range=0.5,zoom_range=0.5,horizontal_flip=True)\n",
    "datagen.fit(x_train)"
   ]
  },
  {
   "cell_type": "markdown",
   "execution_count": null,
   "metadata": {
    "papermill": {
     "duration": 0.013089,
     "end_time": "2020-08-23T20:18:53.563904",
     "exception": false,
     "start_time": "2020-08-23T20:18:53.550815",
     "status": "completed"
    },
    "tags": []
   },
   "source": [
    "<a id=\"4\"><br></a>\n",
    "## Fitting Model on Train Data"
   ]
  },
  {
   "cell_type": "code",
   "execution_count": 17,
   "metadata": {
    "execution": {
     "iopub.execute_input": "2020-08-23T20:18:53.598162Z",
     "iopub.status.busy": "2020-08-23T20:18:53.597307Z",
     "iopub.status.idle": "2020-08-23T20:47:35.664378Z",
     "shell.execute_reply": "2020-08-23T20:47:35.663461Z"
    },
    "papermill": {
     "duration": 1722.086907,
     "end_time": "2020-08-23T20:47:35.664552",
     "exception": false,
     "start_time": "2020-08-23T20:18:53.577645",
     "status": "completed"
    },
    "tags": []
   },
   "outputs": [
    {
     "name": "stdout",
     "output_type": "stream",
     "text": [
      "Epoch 1/50\n",
      "1593/1593 [==============================] - 33s 21ms/step - loss: 0.9878 - accuracy: 0.6683 - val_loss: 0.4067 - val_accuracy: 0.8701\n",
      "Epoch 2/50\n",
      "1593/1593 [==============================] - 33s 21ms/step - loss: 0.6451 - accuracy: 0.7939 - val_loss: 0.2838 - val_accuracy: 0.9108\n",
      "Epoch 3/50\n",
      "1593/1593 [==============================] - 34s 21ms/step - loss: 0.5690 - accuracy: 0.8200 - val_loss: 0.2401 - val_accuracy: 0.9227\n",
      "Epoch 4/50\n",
      "1593/1593 [==============================] - 34s 21ms/step - loss: 0.5236 - accuracy: 0.8349 - val_loss: 0.1974 - val_accuracy: 0.9373\n",
      "Epoch 5/50\n",
      "1593/1593 [==============================] - 34s 21ms/step - loss: 0.4939 - accuracy: 0.8448 - val_loss: 0.2000 - val_accuracy: 0.9392\n",
      "Epoch 6/50\n",
      "1593/1593 [==============================] - 33s 21ms/step - loss: 0.4765 - accuracy: 0.8508 - val_loss: 0.2537 - val_accuracy: 0.9238\n",
      "Epoch 7/50\n",
      "1593/1593 [==============================] - 35s 22ms/step - loss: 0.4557 - accuracy: 0.8561 - val_loss: 0.1641 - val_accuracy: 0.9508\n",
      "Epoch 8/50\n",
      "1593/1593 [==============================] - 34s 21ms/step - loss: 0.4447 - accuracy: 0.8617 - val_loss: 0.1711 - val_accuracy: 0.9469\n",
      "Epoch 9/50\n",
      "1593/1593 [==============================] - 34s 21ms/step - loss: 0.4318 - accuracy: 0.8649 - val_loss: 0.1561 - val_accuracy: 0.9523\n",
      "Epoch 10/50\n",
      "1593/1593 [==============================] - 34s 21ms/step - loss: 0.4198 - accuracy: 0.8689 - val_loss: 0.1733 - val_accuracy: 0.9479\n",
      "Epoch 11/50\n",
      "1593/1593 [==============================] - 34s 21ms/step - loss: 0.4207 - accuracy: 0.8692 - val_loss: 0.1584 - val_accuracy: 0.9527\n",
      "Epoch 12/50\n",
      "1593/1593 [==============================] - 34s 21ms/step - loss: 0.4048 - accuracy: 0.8742 - val_loss: 0.1634 - val_accuracy: 0.9513\n",
      "Epoch 13/50\n",
      "1593/1593 [==============================] - 34s 21ms/step - loss: 0.4034 - accuracy: 0.8752 - val_loss: 0.1529 - val_accuracy: 0.9522\n",
      "Epoch 14/50\n",
      "1593/1593 [==============================] - 34s 21ms/step - loss: 0.4003 - accuracy: 0.8756 - val_loss: 0.1568 - val_accuracy: 0.9501\n",
      "Epoch 15/50\n",
      "1593/1593 [==============================] - 33s 21ms/step - loss: 0.3937 - accuracy: 0.8776 - val_loss: 0.1466 - val_accuracy: 0.9548\n",
      "Epoch 16/50\n",
      "1593/1593 [==============================] - 35s 22ms/step - loss: 0.3904 - accuracy: 0.8807 - val_loss: 0.1651 - val_accuracy: 0.9500\n",
      "Epoch 17/50\n",
      "1593/1593 [==============================] - 34s 21ms/step - loss: 0.3843 - accuracy: 0.8811 - val_loss: 0.1847 - val_accuracy: 0.9444\n",
      "Epoch 18/50\n",
      "1593/1593 [==============================] - 34s 21ms/step - loss: 0.3884 - accuracy: 0.8811 - val_loss: 0.1374 - val_accuracy: 0.9579\n",
      "Epoch 19/50\n",
      "1593/1593 [==============================] - 34s 21ms/step - loss: 0.3817 - accuracy: 0.8824 - val_loss: 0.1385 - val_accuracy: 0.9590\n",
      "Epoch 20/50\n",
      "1593/1593 [==============================] - 33s 21ms/step - loss: 0.3774 - accuracy: 0.8829 - val_loss: 0.1805 - val_accuracy: 0.9458\n",
      "Epoch 21/50\n",
      "1593/1593 [==============================] - 34s 21ms/step - loss: 0.3819 - accuracy: 0.8823 - val_loss: 0.1389 - val_accuracy: 0.9587\n",
      "Epoch 22/50\n",
      "1593/1593 [==============================] - 33s 21ms/step - loss: 0.3790 - accuracy: 0.8839 - val_loss: 0.1978 - val_accuracy: 0.9384\n",
      "Epoch 23/50\n",
      "1593/1593 [==============================] - 34s 21ms/step - loss: 0.3721 - accuracy: 0.8855 - val_loss: 0.1464 - val_accuracy: 0.9567\n",
      "Epoch 24/50\n",
      "1593/1593 [==============================] - 34s 21ms/step - loss: 0.3715 - accuracy: 0.8857 - val_loss: 0.1369 - val_accuracy: 0.9573\n",
      "Epoch 25/50\n",
      "1593/1593 [==============================] - 35s 22ms/step - loss: 0.3798 - accuracy: 0.8846 - val_loss: 0.1490 - val_accuracy: 0.9539\n",
      "Epoch 26/50\n",
      "1593/1593 [==============================] - 34s 22ms/step - loss: 0.3704 - accuracy: 0.8864 - val_loss: 0.1475 - val_accuracy: 0.9544\n",
      "Epoch 27/50\n",
      "1593/1593 [==============================] - 34s 21ms/step - loss: 0.3686 - accuracy: 0.8875 - val_loss: 0.1253 - val_accuracy: 0.9601\n",
      "Epoch 28/50\n",
      "1593/1593 [==============================] - 34s 21ms/step - loss: 0.3627 - accuracy: 0.8883 - val_loss: 0.1233 - val_accuracy: 0.9610\n",
      "Epoch 29/50\n",
      "1593/1593 [==============================] - 34s 21ms/step - loss: 0.3635 - accuracy: 0.8881 - val_loss: 0.1451 - val_accuracy: 0.9559\n",
      "Epoch 30/50\n",
      "1593/1593 [==============================] - 34s 22ms/step - loss: 0.3673 - accuracy: 0.8874 - val_loss: 0.1296 - val_accuracy: 0.9602\n",
      "Epoch 31/50\n",
      "1593/1593 [==============================] - 39s 25ms/step - loss: 0.3606 - accuracy: 0.8886 - val_loss: 0.1249 - val_accuracy: 0.9619\n",
      "Epoch 32/50\n",
      "1593/1593 [==============================] - 34s 21ms/step - loss: 0.3628 - accuracy: 0.8876 - val_loss: 0.1424 - val_accuracy: 0.9564\n",
      "Epoch 33/50\n",
      "1593/1593 [==============================] - 34s 21ms/step - loss: 0.3656 - accuracy: 0.8882 - val_loss: 0.1405 - val_accuracy: 0.9579\n",
      "Epoch 34/50\n",
      "1593/1593 [==============================] - 34s 21ms/step - loss: 0.3667 - accuracy: 0.8886 - val_loss: 0.1233 - val_accuracy: 0.9626\n",
      "Epoch 35/50\n",
      "1593/1593 [==============================] - 36s 22ms/step - loss: 0.3608 - accuracy: 0.8908 - val_loss: 0.1292 - val_accuracy: 0.9604\n",
      "Epoch 36/50\n",
      "1593/1593 [==============================] - 34s 21ms/step - loss: 0.3592 - accuracy: 0.8897 - val_loss: 0.1247 - val_accuracy: 0.9616\n",
      "Epoch 37/50\n",
      "1593/1593 [==============================] - 34s 22ms/step - loss: 0.3589 - accuracy: 0.8898 - val_loss: 0.1284 - val_accuracy: 0.9591\n",
      "Epoch 38/50\n",
      "1593/1593 [==============================] - 34s 21ms/step - loss: 0.3591 - accuracy: 0.8894 - val_loss: 0.1420 - val_accuracy: 0.9573\n",
      "Epoch 39/50\n",
      "1593/1593 [==============================] - 34s 21ms/step - loss: 0.3534 - accuracy: 0.8912 - val_loss: 0.1298 - val_accuracy: 0.9609\n",
      "Epoch 40/50\n",
      "1593/1593 [==============================] - 34s 22ms/step - loss: 0.3558 - accuracy: 0.8908 - val_loss: 0.1213 - val_accuracy: 0.9640\n",
      "Epoch 41/50\n",
      "1593/1593 [==============================] - 34s 21ms/step - loss: 0.3552 - accuracy: 0.8907 - val_loss: 0.1489 - val_accuracy: 0.9537\n",
      "Epoch 42/50\n",
      "1593/1593 [==============================] - 34s 21ms/step - loss: 0.3548 - accuracy: 0.8922 - val_loss: 0.1433 - val_accuracy: 0.9573\n",
      "Epoch 43/50\n",
      "1593/1593 [==============================] - 34s 21ms/step - loss: 0.3548 - accuracy: 0.8913 - val_loss: 0.1204 - val_accuracy: 0.9626\n",
      "Epoch 44/50\n",
      "1593/1593 [==============================] - 35s 22ms/step - loss: 0.3532 - accuracy: 0.8911 - val_loss: 0.1190 - val_accuracy: 0.9622\n",
      "Epoch 45/50\n",
      "1593/1593 [==============================] - 34s 21ms/step - loss: 0.3515 - accuracy: 0.8932 - val_loss: 0.1261 - val_accuracy: 0.9619\n",
      "Epoch 46/50\n",
      "1593/1593 [==============================] - 34s 21ms/step - loss: 0.3498 - accuracy: 0.8928 - val_loss: 0.1281 - val_accuracy: 0.9612\n",
      "Epoch 47/50\n",
      "1593/1593 [==============================] - 34s 21ms/step - loss: 0.3500 - accuracy: 0.8927 - val_loss: 0.1323 - val_accuracy: 0.9594\n",
      "Epoch 48/50\n",
      "1593/1593 [==============================] - 46s 29ms/step - loss: 0.3468 - accuracy: 0.8947 - val_loss: 0.1276 - val_accuracy: 0.9622\n",
      "Epoch 49/50\n",
      "1593/1593 [==============================] - 35s 22ms/step - loss: 0.3477 - accuracy: 0.8945 - val_loss: 0.1243 - val_accuracy: 0.9613\n",
      "Epoch 50/50\n",
      "1593/1593 [==============================] - 34s 22ms/step - loss: 0.3481 - accuracy: 0.8932 - val_loss: 0.1281 - val_accuracy: 0.9601\n"
     ]
    }
   ],
   "source": [
    "history=model.fit_generator(datagen.flow(x_train,y_train,batch_size=32),epochs=50,validation_data=(x_val,y_val), steps_per_epoch=x_train.shape[0] // 32)"
   ]
  },
  {
   "cell_type": "code",
   "execution_count": 18,
   "metadata": {
    "execution": {
     "iopub.execute_input": "2020-08-23T20:47:39.584318Z",
     "iopub.status.busy": "2020-08-23T20:47:39.572215Z",
     "iopub.status.idle": "2020-08-23T20:47:40.197542Z",
     "shell.execute_reply": "2020-08-23T20:47:40.196827Z"
    },
    "papermill": {
     "duration": 2.573429,
     "end_time": "2020-08-23T20:47:40.197676",
     "exception": false,
     "start_time": "2020-08-23T20:47:37.624247",
     "status": "completed"
    },
    "tags": []
   },
   "outputs": [
    {
     "data": {
      "image/png": "[encoded data removed]",
      "text/plain": [
       "<Figure size 432x288 with 2 Axes>"
      ]
     },
     "metadata": {
      "needs_background": "light"
     },
     "output_type": "display_data"
    },
    {
     "data": {
      "image/png": "[encoded data removed]",
      "text/plain": [
       "<Figure size 432x288 with 2 Axes>"
      ]
     },
     "metadata": {
      "needs_background": "light"
     },
     "output_type": "display_data"
    }
   ],
   "source": [
    "plt.subplot(1,2,1)\n",
    "plt.plot(history.history[\"val_loss\"],color=\"r\",label=\"validation loss\")\n",
    "plt.xlabel(\"number of ephocs\")\n",
    "plt.ylabel(\"val_loss\")\n",
    "\n",
    "plt.subplot(1,2,2)\n",
    "plt.plot(history.history[\"val_accuracy\"],color=\"r\",label=\"validation accuracy\")\n",
    "plt.xlabel(\"number of ephocs\")\n",
    "plt.ylabel(\"val_accuracy\")\n",
    "\n",
    "plt.show()\n",
    "\n",
    "plt.subplot(1,2,1)\n",
    "plt.plot(history.history[\"loss\"],color=\"r\",label=\"loss\")\n",
    "plt.xlabel(\"number of ephocs\")\n",
    "plt.ylabel(\"loss\")\n",
    "\n",
    "plt.subplot(1,2,2)\n",
    "plt.plot(history.history[\"accuracy\"],color=\"r\",label=\"accuracy\")\n",
    "plt.xlabel(\"number of ephocs\")\n",
    "plt.ylabel(\"accuracy\")\n",
    "\n",
    "plt.show()"
   ]
  },
  {
   "cell_type": "code",
   "execution_count": 19,
   "metadata": {
    "execution": {
     "iopub.execute_input": "2020-08-23T20:47:44.001452Z",
     "iopub.status.busy": "2020-08-23T20:47:43.998916Z",
     "iopub.status.idle": "2020-08-23T20:47:46.387744Z",
     "shell.execute_reply": "2020-08-23T20:47:46.386958Z"
    },
    "papermill": {
     "duration": 4.28045,
     "end_time": "2020-08-23T20:47:46.387874",
     "exception": false,
     "start_time": "2020-08-23T20:47:42.107424",
     "status": "completed"
    },
    "tags": []
   },
   "outputs": [
    {
     "data": {
      "image/png": "[encoded data removed]",
      "text/plain": [
       "<Figure size 576x576 with 2 Axes>"
      ]
     },
     "metadata": {
      "needs_background": "light"
     },
     "output_type": "display_data"
    }
   ],
   "source": [
    "Y_pred = model.predict(x_val)\n",
    "\n",
    "Y_pred_classes = np.argmax(Y_pred,axis = 1) \n",
    "\n",
    "Y_true = np.argmax(y_val,axis = 1) \n",
    "\n",
    "confusion_mtx = confusion_matrix(Y_true, Y_pred_classes) \n",
    "\n",
    "f,ax = plt.subplots(figsize=(8, 8))\n",
    "sns.heatmap(confusion_mtx, annot=True, linewidths=0.01,cmap=\"Greens\",linecolor=\"gray\", fmt= '.1f',ax=ax)\n",
    "plt.xlabel(\"Predicted Label\")\n",
    "plt.ylabel(\"True Label\")\n",
    "plt.title(\"Confusion Matrix\")\n",
    "plt.show()"
   ]
  },
  {
   "cell_type": "markdown",
   "execution_count": null,
   "metadata": {
    "papermill": {
     "duration": 1.963042,
     "end_time": "2020-08-23T20:47:50.271978",
     "exception": false,
     "start_time": "2020-08-23T20:47:48.308936",
     "status": "completed"
    },
    "tags": []
   },
   "source": [
    "<a id=\"5\"><br></a>\n",
    "## Arranging Test Data"
   ]
  },
  {
   "cell_type": "code",
   "execution_count": 20,
   "metadata": {
    "execution": {
     "iopub.execute_input": "2020-08-23T20:47:54.059525Z",
     "iopub.status.busy": "2020-08-23T20:47:54.058628Z",
     "iopub.status.idle": "2020-08-23T20:47:54.064334Z",
     "shell.execute_reply": "2020-08-23T20:47:54.063589Z"
    },
    "papermill": {
     "duration": 1.920101,
     "end_time": "2020-08-23T20:47:54.064462",
     "exception": false,
     "start_time": "2020-08-23T20:47:52.144361",
     "status": "completed"
    },
    "tags": []
   },
   "outputs": [
    {
     "data": {
      "text/html": [
       "<div>\n",
       "<style scoped>\n",
       "    .dataframe tbody tr th:only-of-type {\n",
       "        vertical-align: middle;\n",
       "    }\n",
       "\n",
       "    .dataframe tbody tr th {\n",
       "        vertical-align: top;\n",
       "    }\n",
       "\n",
       "    .dataframe thead th {\n",
       "        text-align: right;\n",
       "    }\n",
       "</style>\n",
       "<table border=\"1\" class=\"dataframe\">\n",
       "  <thead>\n",
       "    <tr style=\"text-align: right;\">\n",
       "      <th></th>\n",
       "      <th>1x1</th>\n",
       "      <th>1x2</th>\n",
       "      <th>1x3</th>\n",
       "      <th>1x4</th>\n",
       "      <th>1x5</th>\n",
       "      <th>1x6</th>\n",
       "      <th>1x7</th>\n",
       "      <th>1x8</th>\n",
       "      <th>1x9</th>\n",
       "      <th>1x10</th>\n",
       "      <th>...</th>\n",
       "      <th>28x19</th>\n",
       "      <th>28x20</th>\n",
       "      <th>28x21</th>\n",
       "      <th>28x22</th>\n",
       "      <th>28x23</th>\n",
       "      <th>28x24</th>\n",
       "      <th>28x25</th>\n",
       "      <th>28x26</th>\n",
       "      <th>28x27</th>\n",
       "      <th>28x28</th>\n",
       "    </tr>\n",
       "  </thead>\n",
       "  <tbody>\n",
       "    <tr>\n",
       "      <th>0</th>\n",
       "      <td>0</td>\n",
       "      <td>0</td>\n",
       "      <td>0</td>\n",
       "      <td>0</td>\n",
       "      <td>0</td>\n",
       "      <td>0</td>\n",
       "      <td>0</td>\n",
       "      <td>0</td>\n",
       "      <td>0</td>\n",
       "      <td>0</td>\n",
       "      <td>...</td>\n",
       "      <td>0</td>\n",
       "      <td>0</td>\n",
       "      <td>0</td>\n",
       "      <td>0</td>\n",
       "      <td>0</td>\n",
       "      <td>0</td>\n",
       "      <td>0</td>\n",
       "      <td>0</td>\n",
       "      <td>0</td>\n",
       "      <td>0</td>\n",
       "    </tr>\n",
       "    <tr>\n",
       "      <th>1</th>\n",
       "      <td>0</td>\n",
       "      <td>0</td>\n",
       "      <td>0</td>\n",
       "      <td>0</td>\n",
       "      <td>0</td>\n",
       "      <td>0</td>\n",
       "      <td>0</td>\n",
       "      <td>0</td>\n",
       "      <td>0</td>\n",
       "      <td>0</td>\n",
       "      <td>...</td>\n",
       "      <td>0</td>\n",
       "      <td>0</td>\n",
       "      <td>0</td>\n",
       "      <td>0</td>\n",
       "      <td>0</td>\n",
       "      <td>0</td>\n",
       "      <td>0</td>\n",
       "      <td>0</td>\n",
       "      <td>0</td>\n",
       "      <td>0</td>\n",
       "    </tr>\n",
       "    <tr>\n",
       "      <th>2</th>\n",
       "      <td>0</td>\n",
       "      <td>0</td>\n",
       "      <td>0</td>\n",
       "      <td>0</td>\n",
       "      <td>0</td>\n",
       "      <td>0</td>\n",
       "      <td>0</td>\n",
       "      <td>0</td>\n",
       "      <td>0</td>\n",
       "      <td>0</td>\n",
       "      <td>...</td>\n",
       "      <td>0</td>\n",
       "      <td>0</td>\n",
       "      <td>0</td>\n",
       "      <td>0</td>\n",
       "      <td>0</td>\n",
       "      <td>0</td>\n",
       "      <td>0</td>\n",
       "      <td>0</td>\n",
       "      <td>0</td>\n",
       "      <td>0</td>\n",
       "    </tr>\n",
       "    <tr>\n",
       "      <th>3</th>\n",
       "      <td>0</td>\n",
       "      <td>0</td>\n",
       "      <td>0</td>\n",
       "      <td>0</td>\n",
       "      <td>0</td>\n",
       "      <td>0</td>\n",
       "      <td>0</td>\n",
       "      <td>0</td>\n",
       "      <td>0</td>\n",
       "      <td>0</td>\n",
       "      <td>...</td>\n",
       "      <td>0</td>\n",
       "      <td>0</td>\n",
       "      <td>0</td>\n",
       "      <td>0</td>\n",
       "      <td>0</td>\n",
       "      <td>0</td>\n",
       "      <td>0</td>\n",
       "      <td>0</td>\n",
       "      <td>0</td>\n",
       "      <td>0</td>\n",
       "    </tr>\n",
       "    <tr>\n",
       "      <th>4</th>\n",
       "      <td>0</td>\n",
       "      <td>0</td>\n",
       "      <td>0</td>\n",
       "      <td>0</td>\n",
       "      <td>0</td>\n",
       "      <td>0</td>\n",
       "      <td>0</td>\n",
       "      <td>0</td>\n",
       "      <td>0</td>\n",
       "      <td>0</td>\n",
       "      <td>...</td>\n",
       "      <td>0</td>\n",
       "      <td>0</td>\n",
       "      <td>0</td>\n",
       "      <td>0</td>\n",
       "      <td>0</td>\n",
       "      <td>0</td>\n",
       "      <td>0</td>\n",
       "      <td>0</td>\n",
       "      <td>0</td>\n",
       "      <td>0</td>\n",
       "    </tr>\n",
       "  </tbody>\n",
       "</table>\n",
       "<p>5 rows × 784 columns</p>\n",
       "</div>"
      ],
      "text/plain": [
       "   1x1  1x2  1x3  1x4  1x5  1x6  1x7  1x8  1x9  1x10  ...  28x19  28x20  \\\n",
       "0    0    0    0    0    0    0    0    0    0     0  ...      0      0   \n",
       "1    0    0    0    0    0    0    0    0    0     0  ...      0      0   \n",
       "2    0    0    0    0    0    0    0    0    0     0  ...      0      0   \n",
       "3    0    0    0    0    0    0    0    0    0     0  ...      0      0   \n",
       "4    0    0    0    0    0    0    0    0    0     0  ...      0      0   \n",
       "\n",
       "   28x21  28x22  28x23  28x24  28x25  28x26  28x27  28x28  \n",
       "0      0      0      0      0      0      0      0      0  \n",
       "1      0      0      0      0      0      0      0      0  \n",
       "2      0      0      0      0      0      0      0      0  \n",
       "3      0      0      0      0      0      0      0      0  \n",
       "4      0      0      0      0      0      0      0      0  \n",
       "\n",
       "[5 rows x 784 columns]"
      ]
     },
     "execution_count": 20,
     "metadata": {},
     "output_type": "execute_result"
    }
   ],
   "source": [
    "x_test=test.drop(\"label\",axis=1)\n",
    "\n",
    "x_test.head()"
   ]
  },
  {
   "cell_type": "code",
   "execution_count": 21,
   "metadata": {
    "execution": {
     "iopub.execute_input": "2020-08-23T20:47:57.980694Z",
     "iopub.status.busy": "2020-08-23T20:47:57.979833Z",
     "iopub.status.idle": "2020-08-23T20:47:57.984426Z",
     "shell.execute_reply": "2020-08-23T20:47:57.983708Z"
    },
    "papermill": {
     "duration": 1.899696,
     "end_time": "2020-08-23T20:47:57.984555",
     "exception": false,
     "start_time": "2020-08-23T20:47:56.084859",
     "status": "completed"
    },
    "tags": []
   },
   "outputs": [
    {
     "data": {
      "text/plain": [
       "0    7\n",
       "1    2\n",
       "2    1\n",
       "3    0\n",
       "4    4\n",
       "Name: label, dtype: int64"
      ]
     },
     "execution_count": 21,
     "metadata": {},
     "output_type": "execute_result"
    }
   ],
   "source": [
    "y_test=test.label\n",
    "\n",
    "y_test.head()"
   ]
  },
  {
   "cell_type": "code",
   "execution_count": 22,
   "metadata": {
    "execution": {
     "iopub.execute_input": "2020-08-23T20:48:01.794567Z",
     "iopub.status.busy": "2020-08-23T20:48:01.793469Z",
     "iopub.status.idle": "2020-08-23T20:48:01.840558Z",
     "shell.execute_reply": "2020-08-23T20:48:01.839715Z"
    },
    "papermill": {
     "duration": 1.972537,
     "end_time": "2020-08-23T20:48:01.840719",
     "exception": false,
     "start_time": "2020-08-23T20:47:59.868182",
     "status": "completed"
    },
    "tags": []
   },
   "outputs": [
    {
     "data": {
      "text/plain": [
       "(10000, 28, 28, 1)"
      ]
     },
     "execution_count": 22,
     "metadata": {},
     "output_type": "execute_result"
    }
   ],
   "source": [
    "x_test=x_test/255.0\n",
    "x_test=x_test.values.reshape(-1,28,28,1)\n",
    "\n",
    "x_test.shape"
   ]
  },
  {
   "cell_type": "code",
   "execution_count": 23,
   "metadata": {
    "execution": {
     "iopub.execute_input": "2020-08-23T20:48:05.682450Z",
     "iopub.status.busy": "2020-08-23T20:48:05.681654Z",
     "iopub.status.idle": "2020-08-23T20:48:05.687639Z",
     "shell.execute_reply": "2020-08-23T20:48:05.686897Z"
    },
    "papermill": {
     "duration": 1.96379,
     "end_time": "2020-08-23T20:48:05.687775",
     "exception": false,
     "start_time": "2020-08-23T20:48:03.723985",
     "status": "completed"
    },
    "tags": []
   },
   "outputs": [
    {
     "data": {
      "text/plain": [
       "(10000, 10)"
      ]
     },
     "execution_count": 23,
     "metadata": {},
     "output_type": "execute_result"
    }
   ],
   "source": [
    "y_test=to_categorical(y_test,num_classes=10)\n",
    "\n",
    "y_test.shape"
   ]
  },
  {
   "cell_type": "markdown",
   "execution_count": null,
   "metadata": {
    "papermill": {
     "duration": 1.885336,
     "end_time": "2020-08-23T20:48:09.461777",
     "exception": false,
     "start_time": "2020-08-23T20:48:07.576441",
     "status": "completed"
    },
    "tags": []
   },
   "source": [
    "<a id=\"6\"><br></a>\n",
    "## Fitting Model on Test"
   ]
  },
  {
   "cell_type": "code",
   "execution_count": 24,
   "metadata": {
    "execution": {
     "iopub.execute_input": "2020-08-23T20:48:13.326931Z",
     "iopub.status.busy": "2020-08-23T20:48:13.326019Z",
     "iopub.status.idle": "2020-08-23T20:48:15.437358Z",
     "shell.execute_reply": "2020-08-23T20:48:15.436596Z"
    },
    "papermill": {
     "duration": 4.057525,
     "end_time": "2020-08-23T20:48:15.437493",
     "exception": false,
     "start_time": "2020-08-23T20:48:11.379968",
     "status": "completed"
    },
    "tags": []
   },
   "outputs": [
    {
     "data": {
      "image/png": "[encoded data removed]",
      "text/plain": [
       "<Figure size 576x576 with 2 Axes>"
      ]
     },
     "metadata": {
      "needs_background": "light"
     },
     "output_type": "display_data"
    }
   ],
   "source": [
    "Y_pred = model.predict(x_test)\n",
    " \n",
    "Y_pred_classes = np.argmax(Y_pred,axis = 1) \n",
    "\n",
    "Y_true = np.argmax(y_test,axis = 1) \n",
    "\n",
    "confusion_mtx = confusion_matrix(Y_true, Y_pred_classes) \n",
    "\n",
    "f,ax = plt.subplots(figsize=(8, 8))\n",
    "sns.heatmap(confusion_mtx, annot=True, linewidths=0.01,cmap=\"Greens\",linecolor=\"gray\", fmt= '.1f',ax=ax)\n",
    "plt.xlabel(\"Predicted Label\")\n",
    "plt.ylabel(\"True Label\")\n",
    "plt.title(\"Confusion Matrix\")\n",
    "plt.show()"
   ]
  }
 ],
 "metadata": {
  "kernelspec": {
   "display_name": "Python 3",
   "language": "python",
   "name": "python3"
  },
  "language_info": {
   "codemirror_mode": {
    "name": "ipython",
    "version": 3
   },
   "file_extension": ".py",
   "mimetype": "text/x-python",
   "name": "python",
   "nbconvert_exporter": "python",
   "pygments_lexer": "ipython3",
   "version": "3.7.6"
  },
  "papermill": {
   "duration": 1787.242739,
   "end_time": "2020-08-23T20:48:17.433205",
   "environment_variables": {},
   "exception": null,
   "input_path": "__notebook__.ipynb",
   "output_path": "__notebook__.ipynb",
   "parameters": {},
   "start_time": "2020-08-23T20:18:30.190466",
   "version": "2.1.0"
  }
 },
 "nbformat": 4,
 "nbformat_minor": 4
}
